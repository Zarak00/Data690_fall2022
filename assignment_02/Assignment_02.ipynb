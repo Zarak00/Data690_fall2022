{
  "nbformat": 4,
  "nbformat_minor": 0,
  "metadata": {
    "colab": {
      "provenance": [],
      "authorship_tag": "ABX9TyO5RRGioJ+T3cj7wMy7toI4",
      "include_colab_link": true
    },
    "kernelspec": {
      "name": "python3",
      "display_name": "Python 3"
    },
    "language_info": {
      "name": "python"
    }
  },
  "cells": [
    {
      "cell_type": "markdown",
      "metadata": {
        "id": "view-in-github",
        "colab_type": "text"
      },
      "source": [
        "<a href=\"https://colab.research.google.com/github/Zarak00/Data690_fall2022/blob/main/assignment_02/Assignment_02.ipynb\" target=\"_parent\"><img src=\"https://colab.research.google.com/assets/colab-badge.svg\" alt=\"Open In Colab\"/></a>"
      ]
    },
    {
      "cell_type": "markdown",
      "source": [
        "#Assignmnt 02\n",
        "\n",
        "- Zarak Mahmood\n",
        "-9/11/2022"
      ],
      "metadata": {
        "id": "bRplOW5mILiK"
      }
    },
    {
      "cell_type": "code",
      "source": [
        "count = 0\n",
        "while True:\n",
        "\n",
        "    if count == 10:\n",
        "        break\n",
        "\n",
        "    try: \n",
        "        x = int(input(\"Enter an integer:\"))\n",
        "        count = count + 1\n",
        "    except:\n",
        "        print(\"You need to enter an integer. please try again.\")"
      ],
      "metadata": {
        "colab": {
          "base_uri": "https://localhost:8080/"
        },
        "id": "8Mlagt2AJVfq",
        "outputId": "173a4621-6616-4c71-b3ba-119a7678232f"
      },
      "execution_count": 6,
      "outputs": [
        {
          "name": "stdout",
          "output_type": "stream",
          "text": [
            "Enter an integer:10\n",
            "Enter an integer:20\n",
            "Enter an integer:30\n",
            "Enter an integer:40\n",
            "Enter an integer:50\n",
            "Enter an integer:60\n",
            "Enter an integer:70\n",
            "Enter an integer:80\n",
            "Enter an integer:90\n",
            "Enter an integer:100\n"
          ]
        }
      ]
    },
    {
      "cell_type": "markdown",
      "source": [
        "#Maximum\n"
      ],
      "metadata": {
        "id": "x16D201hK9A6"
      }
    },
    {
      "cell_type": "code",
      "source": [
        "def max_value(list):     \n",
        "    max = list[0]\n",
        "    for i in list:\n",
        "        if i > max:\n",
        "            max = i\n",
        "    return max         \n",
        "num = [10, 20, 30, 40, 50, 60, 70, 80, 90, 100]\n",
        "print(max_value(num))\n"
      ],
      "metadata": {
        "colab": {
          "base_uri": "https://localhost:8080/"
        },
        "id": "n8yVpxqFLDL2",
        "outputId": "f129d79f-a84e-464c-bf1c-f915960a4f03"
      },
      "execution_count": 10,
      "outputs": [
        {
          "output_type": "stream",
          "name": "stdout",
          "text": [
            "100\n"
          ]
        }
      ]
    },
    {
      "cell_type": "markdown",
      "source": [
        "#Minimum"
      ],
      "metadata": {
        "id": "8I1g8qXJR_MC"
      }
    },
    {
      "cell_type": "code",
      "source": [
        "def min_value(list):\n",
        "    min = list[0]\n",
        "    for i in list:\n",
        "      if i < min:\n",
        "          min = i\n",
        "    return min\n",
        "num = [10, 20, 30, 40, 50, 60, 70, 80, 90, 100]\n",
        "print(min_value(num))\n"
      ],
      "metadata": {
        "colab": {
          "base_uri": "https://localhost:8080/"
        },
        "id": "nJKLyaV6SDz6",
        "outputId": "bf25f2cd-ba2c-43bf-da06-4b039b5229ba"
      },
      "execution_count": 18,
      "outputs": [
        {
          "output_type": "stream",
          "name": "stdout",
          "text": [
            "10\n"
          ]
        }
      ]
    },
    {
      "cell_type": "markdown",
      "source": [
        "#Range"
      ],
      "metadata": {
        "id": "gQrh6Z48YY0f"
      }
    },
    {
      "cell_type": "code",
      "source": [
        "for i in range(10,101, 10):\n",
        " print(i)"
      ],
      "metadata": {
        "colab": {
          "base_uri": "https://localhost:8080/"
        },
        "id": "jxQqRaNtYc_s",
        "outputId": "47ddbf4a-f8c1-4809-a8f9-1dd5cb480abd"
      },
      "execution_count": 51,
      "outputs": [
        {
          "output_type": "stream",
          "name": "stdout",
          "text": [
            "10\n",
            "20\n",
            "30\n",
            "40\n",
            "50\n",
            "60\n",
            "70\n",
            "80\n",
            "90\n",
            "100\n"
          ]
        }
      ]
    },
    {
      "cell_type": "markdown",
      "source": [
        "#Mean"
      ],
      "metadata": {
        "id": "3ElfH4qiZCKX"
      }
    },
    {
      "cell_type": "code",
      "source": [
        "num = [10, 20, 30, 40, 50, 60, 70, 80, 90, 100]\n",
        "length = len(num)\n",
        "total = sum(num)\n",
        "mean_number = total/length\n",
        "print(\" Mean number\", mean_number)\n"
      ],
      "metadata": {
        "colab": {
          "base_uri": "https://localhost:8080/"
        },
        "id": "wl2nzyyPZFgU",
        "outputId": "6e3f4fc3-2a57-4a83-91d1-e555e8508c77"
      },
      "execution_count": 31,
      "outputs": [
        {
          "output_type": "stream",
          "name": "stdout",
          "text": [
            " Mean number 55.0\n"
          ]
        }
      ]
    },
    {
      "cell_type": "markdown",
      "source": [
        "#Variance"
      ],
      "metadata": {
        "id": "46_nqzcvckux"
      }
    },
    {
      "cell_type": "code",
      "source": [
        "variance_number = sum(num)** 2/ len(num)\n",
        "print('variance number', variance_number)"
      ],
      "metadata": {
        "colab": {
          "base_uri": "https://localhost:8080/"
        },
        "id": "GII-M6pocp6_",
        "outputId": "12273cc9-d15b-4b30-9260-21167b98200c"
      },
      "execution_count": 42,
      "outputs": [
        {
          "output_type": "stream",
          "name": "stdout",
          "text": [
            "variance number 30250.0\n"
          ]
        }
      ]
    },
    {
      "cell_type": "markdown",
      "source": [
        "#Standard Deviation "
      ],
      "metadata": {
        "id": "lBKHwpy7igm6"
      }
    },
    {
      "cell_type": "code",
      "source": [
        "sqrt = 30250** 0.5\n",
        "print ('Standard deviation', sqrt)"
      ],
      "metadata": {
        "colab": {
          "base_uri": "https://localhost:8080/"
        },
        "id": "9UQiCYmBm9ln",
        "outputId": "5305dd13-4800-41b3-9ed1-5b24ae728e64"
      },
      "execution_count": 58,
      "outputs": [
        {
          "output_type": "stream",
          "name": "stdout",
          "text": [
            "Standard deviation 173.92527130926086\n"
          ]
        }
      ]
    }
  ]
}