{
  "nbformat": 4,
  "nbformat_minor": 0,
  "metadata": {
    "colab": {
      "provenance": [],
      "authorship_tag": "ABX9TyM2gQmnO9C4kgjjLZwtH80X",
      "include_colab_link": true
    },
    "kernelspec": {
      "name": "python3",
      "display_name": "Python 3"
    },
    "language_info": {
      "name": "python"
    }
  },
  "cells": [
    {
      "cell_type": "markdown",
      "metadata": {
        "id": "view-in-github",
        "colab_type": "text"
      },
      "source": [
        "<a href=\"https://colab.research.google.com/github/Zarak00/Data690_fall2022/blob/main/assignment_02/data690_session_02.ipynb\" target=\"_parent\"><img src=\"https://colab.research.google.com/assets/colab-badge.svg\" alt=\"Open In Colab\"/></a>"
      ]
    },
    {
      "cell_type": "markdown",
      "source": [
        "- Date 09/08/2022\n",
        "- Name : Zarak "
      ],
      "metadata": {
        "id": "WYu5VedYcv3o"
      }
    },
    {
      "cell_type": "code",
      "source": [
        "years = \"1/11/1997 1991 2000 1969 1999 1998 1993 1996 1999 1997 1996 1998 1995 1999 1999 1997 1996 1996 1997 1995 1997 1999 2000\"\n",
        " \n",
        "print(\"birth year of students\", years)"
      ],
      "metadata": {
        "colab": {
          "base_uri": "https://localhost:8080/"
        },
        "id": "Sa--ujk2dG2m",
        "outputId": "151000d0-2513-4fd2-b984-3bce94b5d2ad"
      },
      "execution_count": 43,
      "outputs": [
        {
          "output_type": "stream",
          "name": "stdout",
          "text": [
            "birth year of students 1/11/1997 1991 2000 1969 1999 1998 1993 1996 1999 1997 1996 1998 1995 1999 1999 1997 1996 1996 1997 1995 1997 1999 2000\n"
          ]
        }
      ]
    },
    {
      "cell_type": "code",
      "source": [
        "type(years)"
      ],
      "metadata": {
        "id": "TQvMnmerupOO",
        "outputId": "45ab12f7-6055-4286-c6ca-2e59a96c6f47",
        "colab": {
          "base_uri": "https://localhost:8080/"
        }
      },
      "execution_count": 44,
      "outputs": [
        {
          "output_type": "execute_result",
          "data": {
            "text/plain": [
              "str"
            ]
          },
          "metadata": {},
          "execution_count": 44
        }
      ]
    },
    {
      "cell_type": "code",
      "source": [
        "type(True)"
      ],
      "metadata": {
        "id": "1qgbozbDu5v8",
        "outputId": "bc9499a0-c708-4bc0-d53e-8e6a340bda74",
        "colab": {
          "base_uri": "https://localhost:8080/"
        }
      },
      "execution_count": 45,
      "outputs": [
        {
          "output_type": "execute_result",
          "data": {
            "text/plain": [
              "bool"
            ]
          },
          "metadata": {},
          "execution_count": 45
        }
      ]
    },
    {
      "cell_type": "code",
      "source": [
        "years_list = years.split(\" \")\n",
        "print(years_list)"
      ],
      "metadata": {
        "id": "4ISk6bZOvBku",
        "outputId": "dd80daa3-6428-48ff-be33-b078540621a5",
        "colab": {
          "base_uri": "https://localhost:8080/"
        }
      },
      "execution_count": 46,
      "outputs": [
        {
          "output_type": "stream",
          "name": "stdout",
          "text": [
            "['1/11/1997', '1991', '2000', '1969', '1999', '1998', '1993', '1996', '1999', '1997', '1996', '1998', '1995', '1999', '1999', '1997', '1996', '1996', '1997', '1995', '1997', '1999', '2000']\n"
          ]
        }
      ]
    },
    {
      "cell_type": "code",
      "source": [
        "x = ['Jay', 'James', 'Jayson', 'Libin']\n",
        "type(x)"
      ],
      "metadata": {
        "id": "7zEG2SeCvoi6",
        "outputId": "8fddc708-9571-49aa-92ec-501f344fb672",
        "colab": {
          "base_uri": "https://localhost:8080/"
        }
      },
      "execution_count": 47,
      "outputs": [
        {
          "output_type": "execute_result",
          "data": {
            "text/plain": [
              "list"
            ]
          },
          "metadata": {},
          "execution_count": 47
        }
      ]
    },
    {
      "cell_type": "code",
      "source": [
        "y = [2.4, 12, -7, 11, 6]\n",
        "type(y)"
      ],
      "metadata": {
        "id": "pzXZ5AO1wCPB",
        "outputId": "42f185d4-8523-4586-fbff-91a0203bf081",
        "colab": {
          "base_uri": "https://localhost:8080/"
        }
      },
      "execution_count": 48,
      "outputs": [
        {
          "output_type": "execute_result",
          "data": {
            "text/plain": [
              "list"
            ]
          },
          "metadata": {},
          "execution_count": 48
        }
      ]
    },
    {
      "cell_type": "code",
      "source": [
        "total = 0\n",
        "for number in y:\n",
        "    total = total + number\n",
        "print('Sum of y =', total)\n",
        "print('The size of the list is', len(y))\n",
        "print('The average of y is', total/len(y))"
      ],
      "metadata": {
        "id": "PI_FMebAwYpq",
        "outputId": "08a95c50-0a78-43ec-b76c-a2db7ee6b892",
        "colab": {
          "base_uri": "https://localhost:8080/"
        }
      },
      "execution_count": 49,
      "outputs": [
        {
          "output_type": "stream",
          "name": "stdout",
          "text": [
            "Sum of y = 24.4\n",
            "The size of the list is 5\n",
            "The average of y is 4.88\n"
          ]
        }
      ]
    },
    {
      "cell_type": "code",
      "source": [
        "years_list[0]"
      ],
      "metadata": {
        "id": "U1Ih2G4TxemC",
        "outputId": "38742c2a-235e-4f7b-e39b-8ce500c55a84",
        "colab": {
          "base_uri": "https://localhost:8080/",
          "height": 36
        }
      },
      "execution_count": 50,
      "outputs": [
        {
          "output_type": "execute_result",
          "data": {
            "text/plain": [
              "'1/11/1997'"
            ],
            "application/vnd.google.colaboratory.intrinsic+json": {
              "type": "string"
            }
          },
          "metadata": {},
          "execution_count": 50
        }
      ]
    },
    {
      "cell_type": "code",
      "source": [
        "years_list[2]"
      ],
      "metadata": {
        "id": "wGWGbq7WxrhQ",
        "outputId": "b6b17d0b-2f88-4d42-dd39-a386419c19fa",
        "colab": {
          "base_uri": "https://localhost:8080/",
          "height": 36
        }
      },
      "execution_count": 51,
      "outputs": [
        {
          "output_type": "execute_result",
          "data": {
            "text/plain": [
              "'2000'"
            ],
            "application/vnd.google.colaboratory.intrinsic+json": {
              "type": "string"
            }
          },
          "metadata": {},
          "execution_count": 51
        }
      ]
    },
    {
      "cell_type": "markdown",
      "source": [
        "#Approch 01 - data problemetic data element"
      ],
      "metadata": {
        "id": "yKN7IxZLybk7"
      }
    },
    {
      "cell_type": "code",
      "source": [
        "abandoned = years_list.pop(0)\n",
        "years_list"
      ],
      "metadata": {
        "id": "_jHNdYypyrKW",
        "outputId": "09745dbe-09ac-4ee1-8b4f-866445e7746f",
        "colab": {
          "base_uri": "https://localhost:8080/"
        }
      },
      "execution_count": 52,
      "outputs": [
        {
          "output_type": "execute_result",
          "data": {
            "text/plain": [
              "['1991',\n",
              " '2000',\n",
              " '1969',\n",
              " '1999',\n",
              " '1998',\n",
              " '1993',\n",
              " '1996',\n",
              " '1999',\n",
              " '1997',\n",
              " '1996',\n",
              " '1998',\n",
              " '1995',\n",
              " '1999',\n",
              " '1999',\n",
              " '1997',\n",
              " '1996',\n",
              " '1996',\n",
              " '1997',\n",
              " '1995',\n",
              " '1997',\n",
              " '1999',\n",
              " '2000']"
            ]
          },
          "metadata": {},
          "execution_count": 52
        }
      ]
    },
    {
      "cell_type": "code",
      "source": [
        "years_list"
      ],
      "metadata": {
        "id": "QBTqXyv8zcKL",
        "outputId": "41cf1723-d379-4f59-d0f3-eb05f21bd9ec",
        "colab": {
          "base_uri": "https://localhost:8080/"
        }
      },
      "execution_count": 53,
      "outputs": [
        {
          "output_type": "execute_result",
          "data": {
            "text/plain": [
              "['1991',\n",
              " '2000',\n",
              " '1969',\n",
              " '1999',\n",
              " '1998',\n",
              " '1993',\n",
              " '1996',\n",
              " '1999',\n",
              " '1997',\n",
              " '1996',\n",
              " '1998',\n",
              " '1995',\n",
              " '1999',\n",
              " '1999',\n",
              " '1997',\n",
              " '1996',\n",
              " '1996',\n",
              " '1997',\n",
              " '1995',\n",
              " '1997',\n",
              " '1999',\n",
              " '2000']"
            ]
          },
          "metadata": {},
          "execution_count": 53
        }
      ]
    },
    {
      "cell_type": "code",
      "source": [
        "from datetime import date\n",
        "\n",
        "current_year = date.today().year\n",
        "print(current_year)\n",
        "\n",
        "total = 0\n",
        "for birth_year in  years_list:\n",
        "    age = current_year - int(birth_year)\n",
        "    total = total + age \n",
        "print('total age =', total)"
      ],
      "metadata": {
        "id": "qQ9JAv-Rz7na",
        "outputId": "4972082c-326c-46ac-98ed-dee2fc348607",
        "colab": {
          "base_uri": "https://localhost:8080/"
        }
      },
      "execution_count": 55,
      "outputs": [
        {
          "output_type": "stream",
          "name": "stdout",
          "text": [
            "2022\n",
            "total age = 578\n"
          ]
        }
      ]
    },
    {
      "cell_type": "code",
      "source": [
        "average_age = total/len(years_list)\n",
        "print('average age', average_age )"
      ],
      "metadata": {
        "id": "1TBHhoL01kes",
        "outputId": "ce547cf7-403d-457a-bcbb-e71cd50e8603",
        "colab": {
          "base_uri": "https://localhost:8080/"
        }
      },
      "execution_count": 56,
      "outputs": [
        {
          "output_type": "stream",
          "name": "stdout",
          "text": [
            "average age 26.272727272727273\n"
          ]
        }
      ]
    },
    {
      "cell_type": "markdown",
      "source": [
        "#Approch 02 - Fix data problem"
      ],
      "metadata": {
        "id": "9K12zwYy2EqW"
      }
    },
    {
      "cell_type": "code",
      "source": [
        "years = \"1/11/1997 1991 2000 1969 1999 1998 1993 1996 1999 1997 1996 1998 1995 1999 1999 1997 1996 1996 1997 1995 1997 1999 2000\"\n",
        "print('Birth years of students', years)"
      ],
      "metadata": {
        "id": "KUFvdS2X2Ly7",
        "outputId": "ad1526fb-fc5b-4dd8-dabf-a6bf59acaf1a",
        "colab": {
          "base_uri": "https://localhost:8080/"
        }
      },
      "execution_count": 57,
      "outputs": [
        {
          "output_type": "stream",
          "name": "stdout",
          "text": [
            "Birth years of students 1/11/1997 1991 2000 1969 1999 1998 1993 1996 1999 1997 1996 1998 1995 1999 1999 1997 1996 1996 1997 1995 1997 1999 2000\n"
          ]
        }
      ]
    },
    {
      "cell_type": "code",
      "source": [
        "years_list = years.split()\n",
        "print(years_list)"
      ],
      "metadata": {
        "id": "9ibWvAUw3Nxo",
        "outputId": "5f8ae0dd-111f-4079-e635-3255ff63fa7f",
        "colab": {
          "base_uri": "https://localhost:8080/"
        }
      },
      "execution_count": 58,
      "outputs": [
        {
          "output_type": "stream",
          "name": "stdout",
          "text": [
            "['1/11/1997', '1991', '2000', '1969', '1999', '1998', '1993', '1996', '1999', '1997', '1996', '1998', '1995', '1999', '1999', '1997', '1996', '1996', '1997', '1995', '1997', '1999', '2000']\n"
          ]
        }
      ]
    },
    {
      "cell_type": "code",
      "source": [
        "years_list[0] = '1997'\n",
        "print(years_list)"
      ],
      "metadata": {
        "id": "8m9NiVP63w1q",
        "outputId": "dc180fd7-7345-4a17-d4a6-65424333d579",
        "colab": {
          "base_uri": "https://localhost:8080/"
        }
      },
      "execution_count": 59,
      "outputs": [
        {
          "output_type": "stream",
          "name": "stdout",
          "text": [
            "['1997', '1991', '2000', '1969', '1999', '1998', '1993', '1996', '1999', '1997', '1996', '1998', '1995', '1999', '1999', '1997', '1996', '1996', '1997', '1995', '1997', '1999', '2000']\n"
          ]
        }
      ]
    },
    {
      "cell_type": "code",
      "source": [
        "from datetime import date\n",
        "\n",
        "current_year = date.today().year\n",
        "print(current_year)\n",
        "\n",
        "total = 0\n",
        "for birth_year in years_list:\n",
        "    age = current_year - int(birth_year)\n",
        "    total = total + age\n",
        "print('Total age', total)"
      ],
      "metadata": {
        "id": "mhkD6y154ATJ",
        "outputId": "012a283b-484d-4fc1-baa4-bc6412650643",
        "colab": {
          "base_uri": "https://localhost:8080/"
        }
      },
      "execution_count": 61,
      "outputs": [
        {
          "output_type": "stream",
          "name": "stdout",
          "text": [
            "2022\n",
            "Total age 603\n"
          ]
        }
      ]
    },
    {
      "cell_type": "code",
      "source": [
        "average_age = total / len(years_list)\n",
        "print('average age', average_age)"
      ],
      "metadata": {
        "id": "irKopInT5pHa",
        "outputId": "3fe049fe-6dc0-4e1b-96bd-32d55da7c842",
        "colab": {
          "base_uri": "https://localhost:8080/"
        }
      },
      "execution_count": 65,
      "outputs": [
        {
          "output_type": "stream",
          "name": "stdout",
          "text": [
            "average age 26.217391304347824\n"
          ]
        }
      ]
    },
    {
      "cell_type": "markdown",
      "source": [
        "#Misc"
      ],
      "metadata": {
        "id": "JV2cGVpl8EUi"
      }
    },
    {
      "cell_type": "code",
      "source": [
        "count = 0\n",
        "while True:\n",
        "\n",
        "    if count == 3:\n",
        "        break\n",
        "\n",
        "    try: \n",
        "        x = int(input(\"Enter an integer:\"))\n",
        "        count = count + 1\n",
        "    except:\n",
        "        print(\"You need to enter an integer. please try again.\")\n",
        "        "
      ],
      "metadata": {
        "id": "uP1qgqev8Igf",
        "outputId": "44376ca8-e65b-448d-907c-42f73537c127",
        "colab": {
          "base_uri": "https://localhost:8080/"
        }
      },
      "execution_count": 66,
      "outputs": [
        {
          "name": "stdout",
          "output_type": "stream",
          "text": [
            "Enter an integer:55\n",
            "Enter an integer:85\n",
            "Enter an integer:95\n"
          ]
        }
      ]
    }
  ]
}