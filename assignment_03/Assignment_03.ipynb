{
  "nbformat": 4,
  "nbformat_minor": 0,
  "metadata": {
    "colab": {
      "provenance": [],
      "authorship_tag": "ABX9TyMwo6eMv2R/pCU6qXCAf95j",
      "include_colab_link": true
    },
    "kernelspec": {
      "name": "python3",
      "display_name": "Python 3"
    },
    "language_info": {
      "name": "python"
    }
  },
  "cells": [
    {
      "cell_type": "markdown",
      "metadata": {
        "id": "view-in-github",
        "colab_type": "text"
      },
      "source": [
        "<a href=\"https://colab.research.google.com/github/Zarak00/Data690_fall2022/blob/main/assignment_03/Assignment_03.ipynb\" target=\"_parent\"><img src=\"https://colab.research.google.com/assets/colab-badge.svg\" alt=\"Open In Colab\"/></a>"
      ]
    },
    {
      "cell_type": "markdown",
      "source": [
        "#Assignement 03\n",
        "\n",
        "- Zarak Mahmood\n",
        "- 9/18/2022\n"
      ],
      "metadata": {
        "id": "ISP_cJssglWr"
      }
    },
    {
      "cell_type": "markdown",
      "source": [
        "#Print 10 by 10 in Matrix"
      ],
      "metadata": {
        "id": "dxeKJWexhG89"
      }
    },
    {
      "cell_type": "code",
      "source": [
        "import random\n",
        "size = 10\n",
        "random_numbers = []\n",
        "\n",
        "for i in range(size):\n",
        "    for j in range(size):\n",
        "        print(random.randint(0,9), end=\" \")\n",
        "    print(\"\\n\")\n",
        "\n"
      ],
      "metadata": {
        "colab": {
          "base_uri": "https://localhost:8080/"
        },
        "id": "sKObCNbWhddC",
        "outputId": "e66006f3-4ad2-4595-f766-94daff1540b6"
      },
      "execution_count": 39,
      "outputs": [
        {
          "output_type": "stream",
          "name": "stdout",
          "text": [
            "1 4 9 1 6 8 4 0 5 8 \n",
            "\n",
            "1 8 7 2 7 6 2 2 6 2 \n",
            "\n",
            "3 8 2 6 4 9 7 9 4 9 \n",
            "\n",
            "7 0 8 1 7 0 5 7 7 0 \n",
            "\n",
            "6 4 3 3 5 3 1 6 2 3 \n",
            "\n",
            "2 6 1 5 0 3 0 4 0 7 \n",
            "\n",
            "4 7 4 7 8 1 8 5 7 9 \n",
            "\n",
            "4 2 7 1 0 3 1 0 2 9 \n",
            "\n",
            "6 4 8 3 8 4 0 0 8 7 \n",
            "\n",
            "1 2 0 3 5 2 9 7 5 8 \n",
            "\n"
          ]
        }
      ]
    },
    {
      "cell_type": "markdown",
      "source": [
        "#Replacing ODD number "
      ],
      "metadata": {
        "id": "FWhXq6xa1s_W"
      }
    }
  ]
}