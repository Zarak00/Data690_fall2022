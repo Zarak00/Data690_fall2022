{
  "nbformat": 4,
  "nbformat_minor": 0,
  "metadata": {
    "colab": {
      "provenance": [],
      "authorship_tag": "ABX9TyPbSA1jxVbq//zBGhdM9d6o",
      "include_colab_link": true
    },
    "kernelspec": {
      "name": "python3",
      "display_name": "Python 3"
    },
    "language_info": {
      "name": "python"
    }
  },
  "cells": [
    {
      "cell_type": "markdown",
      "metadata": {
        "id": "view-in-github",
        "colab_type": "text"
      },
      "source": [
        "<a href=\"https://colab.research.google.com/github/Zarak00/Data690_fall2022/blob/main/assignment_03/assignment_03.ipynb\" target=\"_parent\"><img src=\"https://colab.research.google.com/assets/colab-badge.svg\" alt=\"Open In Colab\"/></a>"
      ]
    },
    {
      "cell_type": "markdown",
      "source": [
        "#Assignement 03\n",
        "\n",
        "- Zarak Mahmood\n",
        "- 9/18/2022\n"
      ],
      "metadata": {
        "id": "ISP_cJssglWr"
      }
    },
    {
      "cell_type": "markdown",
      "source": [
        "#Question 1 - Print 10 by 10 in Matrix"
      ],
      "metadata": {
        "id": "IXTxIFdrOlJ9"
      }
    },
    {
      "cell_type": "code",
      "execution_count": 13,
      "metadata": {
        "colab": {
          "base_uri": "https://localhost:8080/"
        },
        "id": "e_Kg5fqHOLvP",
        "outputId": "352677a5-9e6c-4896-e5ba-c623c01f0f3d"
      },
      "outputs": [
        {
          "output_type": "stream",
          "name": "stdout",
          "text": [
            "8 4 1 1 6 4 1 9 4 7 \n",
            "\n",
            "2 0 6 5 4 5 3 2 0 7 \n",
            "\n",
            "3 1 3 8 5 9 0 9 9 3 \n",
            "\n",
            "8 4 1 5 7 2 2 7 0 7 \n",
            "\n",
            "9 4 6 6 5 0 2 1 0 5 \n",
            "\n",
            "8 5 6 4 8 6 5 0 4 6 \n",
            "\n",
            "7 8 4 5 3 6 8 3 0 8 \n",
            "\n",
            "6 5 2 7 2 8 7 8 7 0 \n",
            "\n",
            "7 4 0 0 2 0 1 2 5 5 \n",
            "\n",
            "0 0 9 0 6 1 4 7 0 6 \n",
            "\n"
          ]
        }
      ],
      "source": [
        "import random\n",
        "size = 10\n",
        "random_numbers = []\n",
        "\n",
        "for i in range(size): # i represents a row\n",
        "   \n",
        "    for j in range(size): # j represents a number in a row\n",
        "        print(random.randint(0,9), end=\" \")\n",
        "\n",
        "    print(\"\\n\")"
      ]
    },
    {
      "cell_type": "markdown",
      "source": [
        "#Question 2 - Replacing ODD number with \"@\"\n"
      ],
      "metadata": {
        "id": "pRUq9DPeOy-7"
      }
    },
    {
      "cell_type": "code",
      "source": [
        "for i in range(size):\n",
        "    for j in range(size):\n",
        "        \n",
        "        x = random.randint(0,9) # assigning x the value of random\n",
        "\n",
        "        if x % 2 == 0: # if a number is divisable by 2 then print the even number\n",
        "            print(x, end=\" \")\n",
        "        else:           \n",
        "            print(\"@\", end=\" \") #if it is an odd number then replace it with \"@\"\n",
        "    print(\"\\n\")       "
      ],
      "metadata": {
        "id": "Jlg8bYliPYVr",
        "outputId": "8c834628-5e92-4382-8980-f95885fe85ab",
        "colab": {
          "base_uri": "https://localhost:8080/"
        }
      },
      "execution_count": 5,
      "outputs": [
        {
          "output_type": "stream",
          "name": "stdout",
          "text": [
            "8 6 4 @ @ 2 8 8 2 2 \n",
            "\n",
            "6 @ @ 8 8 0 @ 0 0 @ \n",
            "\n",
            "@ @ @ @ 2 @ 6 @ 6 @ \n",
            "\n",
            "2 @ 8 @ 8 @ @ @ @ 4 \n",
            "\n",
            "@ 2 @ 2 @ 2 @ @ 8 @ \n",
            "\n",
            "4 @ 4 6 8 @ 8 8 @ @ \n",
            "\n",
            "@ 8 6 @ @ 8 @ @ 8 6 \n",
            "\n",
            "2 @ @ 8 @ 0 @ 0 @ @ \n",
            "\n",
            "@ @ @ 6 4 @ @ @ 2 @ \n",
            "\n",
            "8 @ 0 2 @ 6 8 2 @ @ \n",
            "\n"
          ]
        }
      ]
    },
    {
      "cell_type": "markdown",
      "source": [
        "#Quetion 3 - Sum up and display the sum at the end of each row with \"*\" as separator"
      ],
      "metadata": {
        "id": "PwRlk1FHJ0KX"
      }
    },
    {
      "cell_type": "code",
      "source": [
        "for i in range(size):\n",
        "    total = 0\n",
        "    for j in range(size):\n",
        "        x = random.randint(0,9)\n",
        "        \n",
        "        total = total + x # adding sum of the rows\n",
        "        \n",
        "        print(x, end=\" \")\n",
        "\n",
        "    print(\"*\", total, \"\\n\") # this code will add \"*\" then total of rows and then a new line \n",
        "                                    \n",
        "\n"
      ],
      "metadata": {
        "id": "wyXOwRW3MCi0",
        "outputId": "3dd6e0bd-6f31-4739-d685-812bb941d930",
        "colab": {
          "base_uri": "https://localhost:8080/"
        }
      },
      "execution_count": 9,
      "outputs": [
        {
          "output_type": "stream",
          "name": "stdout",
          "text": [
            "3 6 4 8 8 8 7 3 3 2 * 52 \n",
            "\n",
            "9 3 5 4 4 0 3 7 2 9 * 46 \n",
            "\n",
            "9 4 5 0 1 5 0 5 8 9 * 46 \n",
            "\n",
            "3 2 2 7 4 0 9 8 1 0 * 36 \n",
            "\n",
            "7 3 2 1 2 3 6 4 6 6 * 40 \n",
            "\n",
            "1 5 2 0 8 4 5 1 4 7 * 37 \n",
            "\n",
            "2 4 5 7 7 3 6 9 5 2 * 50 \n",
            "\n",
            "3 0 5 2 5 5 2 9 1 4 * 36 \n",
            "\n",
            "7 4 9 9 0 2 1 7 9 5 * 53 \n",
            "\n",
            "3 9 6 7 0 5 4 6 2 2 * 44 \n",
            "\n"
          ]
        }
      ]
    },
    {
      "cell_type": "markdown",
      "source": [
        "#Question 4 - Question 4 - Surrounding the matrix with \"*\""
      ],
      "metadata": {
        "id": "fQklBEMXOI4f"
      }
    },
    {
      "cell_type": "code",
      "source": [
        "print ('*' * 23) # code to print * at the top of matrix\n",
        "\n",
        "for i in range(size):\n",
        "    \n",
        "    print(\"*\", end=\" \") # code to print * at the start of a row\n",
        "    for j in range(size):\n",
        "        print(random.randint(0,9), end=\" \")\n",
        "\n",
        "    print(\"*\\n\") #Code to print * at the end of every row before moving to the next one\n",
        "\n",
        "print(\"*\" * 23) # Code to print * at the bottom line of matrix\n"
      ],
      "metadata": {
        "id": "6rsHRvVjOGiQ",
        "outputId": "0f25516f-91d3-4297-9986-9e3f4fd11425",
        "colab": {
          "base_uri": "https://localhost:8080/"
        }
      },
      "execution_count": 11,
      "outputs": [
        {
          "output_type": "stream",
          "name": "stdout",
          "text": [
            "***********************\n",
            "* 6 7 2 2 7 2 5 5 3 8 *\n",
            "\n",
            "* 1 6 9 7 2 5 4 0 2 2 *\n",
            "\n",
            "* 2 3 4 5 6 2 5 4 0 5 *\n",
            "\n",
            "* 6 3 1 1 7 3 1 3 0 2 *\n",
            "\n",
            "* 5 9 4 7 6 0 4 6 2 8 *\n",
            "\n",
            "* 9 6 8 1 0 1 6 6 9 5 *\n",
            "\n",
            "* 7 4 8 8 4 8 3 6 9 9 *\n",
            "\n",
            "* 5 9 6 6 7 0 0 4 2 0 *\n",
            "\n",
            "* 6 5 7 2 7 6 1 0 7 6 *\n",
            "\n",
            "* 6 1 4 1 7 3 2 1 1 5 *\n",
            "\n",
            "***********************\n"
          ]
        }
      ]
    },
    {
      "cell_type": "markdown",
      "source": [
        "#Question 5 - Built on question 3 and sum up each columns"
      ],
      "metadata": {
        "id": "AJPvdvjgQbns"
      }
    },
    {
      "cell_type": "code",
      "source": [
        "column_sums = [0,0,0,0,0,0,0,0,0,0]\n",
        "\n",
        "for i in range(size):\n",
        "    total = 0\n",
        "    for j in range(size):\n",
        "        x = random.randint(0,9)\n",
        "        column_sums[j] = column_sums[j] + x     \n",
        "        total = total + x\n",
        "        print(x, end=\"  \")\n",
        "\n",
        "    print(\"*\", total, end=\"\\n\")\n",
        "\n",
        "print(\"*  \" * 10)\n",
        "for y in column_sums:\n",
        "    print(y, end=\" \")"
      ],
      "metadata": {
        "id": "LaYaUgp6QmtK"
      },
      "execution_count": null,
      "outputs": []
    }
  ]
}