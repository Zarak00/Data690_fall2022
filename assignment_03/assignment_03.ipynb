{
  "nbformat": 4,
  "nbformat_minor": 0,
  "metadata": {
    "colab": {
      "provenance": [],
      "authorship_tag": "ABX9TyOEj9NGfp/vJUlMQ38o/XOr",
      "include_colab_link": true
    },
    "kernelspec": {
      "name": "python3",
      "display_name": "Python 3"
    },
    "language_info": {
      "name": "python"
    }
  },
  "cells": [
    {
      "cell_type": "markdown",
      "metadata": {
        "id": "view-in-github",
        "colab_type": "text"
      },
      "source": [
        "<a href=\"https://colab.research.google.com/github/Zarak00/Data690_fall2022/blob/main/assignment_03/assignment_03.ipynb\" target=\"_parent\"><img src=\"https://colab.research.google.com/assets/colab-badge.svg\" alt=\"Open In Colab\"/></a>"
      ]
    },
    {
      "cell_type": "markdown",
      "source": [
        "#Assignement 03\n",
        "\n",
        "- Zarak Mahmood\n",
        "- 9/18/2022\n"
      ],
      "metadata": {
        "id": "ISP_cJssglWr"
      }
    },
    {
      "cell_type": "markdown",
      "source": [
        "#Print 10 by 10 in Matrix"
      ],
      "metadata": {
        "id": "IXTxIFdrOlJ9"
      }
    },
    {
      "cell_type": "code",
      "execution_count": 2,
      "metadata": {
        "colab": {
          "base_uri": "https://localhost:8080/"
        },
        "id": "e_Kg5fqHOLvP",
        "outputId": "d02af6e2-f89d-4a11-b1eb-757fe199d120"
      },
      "outputs": [
        {
          "output_type": "stream",
          "name": "stdout",
          "text": [
            "5 3 2 2 8 7 9 5 8 9 \n",
            "\n",
            "0 8 4 0 3 5 3 1 8 2 \n",
            "\n",
            "7 7 3 5 2 0 9 2 2 9 \n",
            "\n",
            "4 8 7 5 6 2 2 4 5 6 \n",
            "\n",
            "7 1 6 8 4 2 5 1 5 0 \n",
            "\n",
            "6 9 2 6 0 7 7 3 7 6 \n",
            "\n",
            "6 6 3 3 7 6 3 3 6 8 \n",
            "\n",
            "7 8 5 6 5 9 4 5 3 7 \n",
            "\n",
            "4 9 2 6 1 1 6 8 5 3 \n",
            "\n",
            "2 0 9 2 7 0 1 4 6 8 \n",
            "\n"
          ]
        }
      ],
      "source": [
        "import random\n",
        "size = 10\n",
        "random_numbers = []\n",
        "\n",
        "for i in range(size):\n",
        "    for j in range(size):\n",
        "        print(random.randint(0,9), end=\" \")\n",
        "    print(\"\\n\")"
      ]
    },
    {
      "cell_type": "markdown",
      "source": [
        "#Replacing ODD number\n"
      ],
      "metadata": {
        "id": "pRUq9DPeOy-7"
      }
    }
  ]
}