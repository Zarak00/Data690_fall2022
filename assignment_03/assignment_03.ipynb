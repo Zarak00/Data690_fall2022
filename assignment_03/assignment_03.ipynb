{
  "nbformat": 4,
  "nbformat_minor": 0,
  "metadata": {
    "colab": {
      "provenance": [],
      "authorship_tag": "ABX9TyNyb1Em8cA3pq7tVWikTpS6",
      "include_colab_link": true
    },
    "kernelspec": {
      "name": "python3",
      "display_name": "Python 3"
    },
    "language_info": {
      "name": "python"
    }
  },
  "cells": [
    {
      "cell_type": "markdown",
      "metadata": {
        "id": "view-in-github",
        "colab_type": "text"
      },
      "source": [
        "<a href=\"https://colab.research.google.com/github/Zarak00/Data690_fall2022/blob/main/assignment_03/assignment_03.ipynb\" target=\"_parent\"><img src=\"https://colab.research.google.com/assets/colab-badge.svg\" alt=\"Open In Colab\"/></a>"
      ]
    },
    {
      "cell_type": "markdown",
      "source": [
        "#Assignement 03\n",
        "\n",
        "- Zarak Mahmood\n",
        "- 9/18/2022\n"
      ],
      "metadata": {
        "id": "ISP_cJssglWr"
      }
    },
    {
      "cell_type": "markdown",
      "source": [
        "#Print 10 by 10 in Matrix"
      ],
      "metadata": {
        "id": "IXTxIFdrOlJ9"
      }
    },
    {
      "cell_type": "code",
      "execution_count": 1,
      "metadata": {
        "colab": {
          "base_uri": "https://localhost:8080/"
        },
        "id": "e_Kg5fqHOLvP",
        "outputId": "71a5d28d-0a1b-47a3-e83b-75255b46aba0"
      },
      "outputs": [
        {
          "output_type": "stream",
          "name": "stdout",
          "text": [
            "7 2 4 6 8 9 6 5 3 2 \n",
            "\n",
            "8 0 9 1 0 9 8 5 1 3 \n",
            "\n",
            "3 8 4 1 7 1 8 4 7 2 \n",
            "\n",
            "9 3 2 2 6 7 5 0 8 3 \n",
            "\n",
            "3 9 2 8 4 6 9 8 9 0 \n",
            "\n",
            "0 5 7 2 2 0 2 7 6 5 \n",
            "\n",
            "4 3 6 1 1 7 4 9 8 7 \n",
            "\n",
            "8 9 5 0 6 9 6 4 4 0 \n",
            "\n",
            "9 6 0 6 3 4 7 1 5 1 \n",
            "\n",
            "1 8 6 1 1 1 0 6 6 8 \n",
            "\n"
          ]
        }
      ],
      "source": [
        "import random\n",
        "size = 10\n",
        "random_numbers = []\n",
        "\n",
        "for i in range(size):\n",
        "    for j in range(size):\n",
        "        print(random.randint(0,9), end=\" \")\n",
        "    print(\"\\n\")"
      ]
    },
    {
      "cell_type": "markdown",
      "source": [
        "#Replacing ODD number\n"
      ],
      "metadata": {
        "id": "pRUq9DPeOy-7"
      }
    },
    {
      "cell_type": "code",
      "source": [
        "if x % 2 == 0: \n",
        "    print(x, end=\" \")\n",
        "else:           \n",
        "    print(\"@\", end=\" \")"
      ],
      "metadata": {
        "id": "Jlg8bYliPYVr",
        "outputId": "2b5af73c-b87d-4293-b553-dc42d543d3ae",
        "colab": {
          "base_uri": "https://localhost:8080/",
          "height": 217
        }
      },
      "execution_count": 5,
      "outputs": [
        {
          "output_type": "error",
          "ename": "NameError",
          "evalue": "ignored",
          "traceback": [
            "\u001b[0;31m---------------------------------------------------------------------------\u001b[0m",
            "\u001b[0;31mNameError\u001b[0m                                 Traceback (most recent call last)",
            "\u001b[0;32m<ipython-input-5-d566b718d328>\u001b[0m in \u001b[0;36m<module>\u001b[0;34m\u001b[0m\n\u001b[0;32m----> 1\u001b[0;31m \u001b[0;32mif\u001b[0m \u001b[0mx\u001b[0m \u001b[0;34m%\u001b[0m \u001b[0;36m2\u001b[0m \u001b[0;34m==\u001b[0m \u001b[0;36m0\u001b[0m\u001b[0;34m:\u001b[0m\u001b[0;34m\u001b[0m\u001b[0;34m\u001b[0m\u001b[0m\n\u001b[0m\u001b[1;32m      2\u001b[0m     \u001b[0mprint\u001b[0m\u001b[0;34m(\u001b[0m\u001b[0mx\u001b[0m\u001b[0;34m,\u001b[0m \u001b[0mend\u001b[0m\u001b[0;34m=\u001b[0m\u001b[0;34m\" \"\u001b[0m\u001b[0;34m)\u001b[0m\u001b[0;34m\u001b[0m\u001b[0;34m\u001b[0m\u001b[0m\n\u001b[1;32m      3\u001b[0m \u001b[0;32melse\u001b[0m\u001b[0;34m:\u001b[0m\u001b[0;34m\u001b[0m\u001b[0;34m\u001b[0m\u001b[0m\n\u001b[1;32m      4\u001b[0m     \u001b[0mprint\u001b[0m\u001b[0;34m(\u001b[0m\u001b[0;34m\"@\"\u001b[0m\u001b[0;34m,\u001b[0m \u001b[0mend\u001b[0m\u001b[0;34m=\u001b[0m\u001b[0;34m\" \"\u001b[0m\u001b[0;34m)\u001b[0m\u001b[0;34m\u001b[0m\u001b[0;34m\u001b[0m\u001b[0m\n",
            "\u001b[0;31mNameError\u001b[0m: name 'x' is not defined"
          ]
        }
      ]
    }
  ]
}