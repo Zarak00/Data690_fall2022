{
  "nbformat": 4,
  "nbformat_minor": 0,
  "metadata": {
    "kernelspec": {
      "display_name": "Python 3",
      "language": "python",
      "name": "python3"
    },
    "language_info": {
      "codemirror_mode": {
        "name": "ipython",
        "version": 3
      },
      "file_extension": ".py",
      "mimetype": "text/x-python",
      "name": "python",
      "nbconvert_exporter": "python",
      "pygments_lexer": "ipython3",
      "version": "3.7.1"
    },
    "colab": {
      "name": "assignment_07.ipynb.txt",
      "provenance": [],
      "include_colab_link": true
    }
  },
  "cells": [
    {
      "cell_type": "markdown",
      "metadata": {
        "id": "view-in-github",
        "colab_type": "text"
      },
      "source": [
        "<a href=\"https://colab.research.google.com/github/Zarak00/Data690_fall2022/blob/main/assignments_06/assignment_06.ipynb\" target=\"_parent\"><img src=\"https://colab.research.google.com/assets/colab-badge.svg\" alt=\"Open In Colab\"/></a>"
      ]
    },
    {
      "cell_type": "markdown",
      "source": [
        "# Zarak Mahmood\n",
        "\n",
        "- 10/6/2022\n"
      ],
      "metadata": {
        "id": "mROvCpd2scxi"
      }
    },
    {
      "cell_type": "markdown",
      "metadata": {
        "id": "02rFSC_-6zKz"
      },
      "source": [
        "## Assignment 06\n",
        "### Note:\n",
        "- For visualization, you should use Plotly Express \n",
        "- Use this notebook as your template and follow the instructions\n",
        "\n",
        "The first half of this assignment is similar to assignment 04.\n",
        "\n",
        "This gives you a chance to refresh.\n",
        "\n",
        "The second half is new and gives you a chance to perform additional practices.\n",
        "\n",
        "You also get a chance to use some of the Python libraries and techniques.\n",
        "\n",
        "The links to the zip file is:\n",
        "\n",
        "- https://collegescorecard.ed.gov/data (This web page contains the link to the zip file)\n",
        "\n",
        "- https://ed-public-download.app.cloud.gov/downloads/CollegeScorecard_Raw_Data_09012022.zip (The link to the zip file)\n",
        "\n",
        "You can run `!wget` command in Colab notebook to retrieve it directly, then run `!unzip` command to extract files (I have provided the cells to do so next for your convenience)\n",
        "\n",
        "Your folder structure should look like this in your Colab enviroment:\n",
        "\n",
        "- ...\n",
        "- 'MERGED1996_97_PP.csv',\n",
        "- 'MERGED2015_16_PP.csv',\n",
        "- ...\n",
        "- 'MERGED2017_18_PP.csv'\n",
        "- ...\n",
        "\n",
        "**Note: you should refresh the folder to see all files.**"
      ]
    },
    {
      "cell_type": "markdown",
      "source": [
        "## Step 1 - Retrieve the zip file"
      ],
      "metadata": {
        "id": "RemUiHBXf5EK"
      }
    },
    {
      "cell_type": "code",
      "metadata": {
        "id": "IlnBrYreEoY2",
        "outputId": "ec3b843b-329f-490b-d325-22661050e3e6",
        "colab": {
          "base_uri": "https://localhost:8080/"
        }
      },
      "source": [
        "!wget https://ed-public-download.app.cloud.gov/downloads/CollegeScorecard_Raw_Data_09012022.zip"
      ],
      "execution_count": 110,
      "outputs": [
        {
          "output_type": "stream",
          "name": "stdout",
          "text": [
            "--2022-10-10 05:57:09--  https://ed-public-download.app.cloud.gov/downloads/CollegeScorecard_Raw_Data_09012022.zip\n",
            "Resolving ed-public-download.app.cloud.gov (ed-public-download.app.cloud.gov)... 3.30.49.38, 3.30.138.208, 2600:1f12:18a:7d01:ad67:f64c:95d6:78ed, ...\n",
            "Connecting to ed-public-download.app.cloud.gov (ed-public-download.app.cloud.gov)|3.30.49.38|:443... connected.\n",
            "HTTP request sent, awaiting response... 200 OK\n",
            "Length: 410294884 (391M) [application/zip]\n",
            "Saving to: ‘CollegeScorecard_Raw_Data_09012022.zip.2’\n",
            "\n",
            "          CollegeSc   0%[                    ]       0  --.-KB/s               n\n",
            "CollegeScorecard_Ra 100%[===================>] 391.29M  75.0MB/s    in 5.6s    \n",
            "\n",
            "2022-10-10 05:57:15 (70.2 MB/s) - ‘CollegeScorecard_Raw_Data_09012022.zip.2’ saved [410294884/410294884]\n",
            "\n"
          ]
        }
      ]
    },
    {
      "cell_type": "markdown",
      "source": [
        "## Step 2 - Unzip the zip file"
      ],
      "metadata": {
        "id": "mY5iKlaef_E3"
      }
    },
    {
      "cell_type": "code",
      "metadata": {
        "id": "WXcix8Q4EWzN",
        "outputId": "cbca8b46-5f88-437a-ca85-aedd4c0d385b",
        "colab": {
          "base_uri": "https://localhost:8080/"
        }
      },
      "source": [
        "!unzip CollegeScorecard_Raw_Data_09012022.zip"
      ],
      "execution_count": 109,
      "outputs": [
        {
          "output_type": "stream",
          "name": "stdout",
          "text": [
            "Archive:  CollegeScorecard_Raw_Data_09012022.zip\n",
            "replace Crosswalks.zip? [y]es, [n]o, [A]ll, [N]one, [r]ename: n\n",
            "replace data.yaml? [y]es, [n]o, [A]ll, [N]one, [r]ename: n\n",
            "replace FieldOfStudyData1415_1516_PP.csv? [y]es, [n]o, [A]ll, [N]one, [r]ename: n\n",
            "replace FieldOfStudyData1516_1617_PP.csv? [y]es, [n]o, [A]ll, [N]one, [r]ename: n\n",
            "replace FieldOfStudyData1617_1718_PP.csv? [y]es, [n]o, [A]ll, [N]one, [r]ename: n\n",
            "replace FieldOfStudyData1718_1819_PP.csv? [y]es, [n]o, [A]ll, [N]one, [r]ename: n\n",
            "replace MERGED1996_97_PP.csv? [y]es, [n]o, [A]ll, [N]one, [r]ename: n\n",
            "replace MERGED1997_98_PP.csv? [y]es, [n]o, [A]ll, [N]one, [r]ename: n\n",
            "replace MERGED1998_99_PP.csv? [y]es, [n]o, [A]ll, [N]one, [r]ename: n\n",
            "replace MERGED1999_00_PP.csv? [y]es, [n]o, [A]ll, [N]one, [r]ename: n\n",
            "replace MERGED2000_01_PP.csv? [y]es, [n]o, [A]ll, [N]one, [r]ename: n\n",
            "replace MERGED2001_02_PP.csv? [y]es, [n]o, [A]ll, [N]one, [r]ename: n\n",
            "replace MERGED2002_03_PP.csv? [y]es, [n]o, [A]ll, [N]one, [r]ename: n\n",
            "replace MERGED2003_04_PP.csv? [y]es, [n]o, [A]ll, [N]one, [r]ename: n\n",
            "replace MERGED2004_05_PP.csv? [y]es, [n]o, [A]ll, [N]one, [r]ename: n\n",
            "replace MERGED2005_06_PP.csv? [y]es, [n]o, [A]ll, [N]one, [r]ename: n\n",
            "replace MERGED2006_07_PP.csv? [y]es, [n]o, [A]ll, [N]one, [r]ename: nn\n",
            "replace MERGED2007_08_PP.csv? [y]es, [n]o, [A]ll, [N]one, [r]ename: n\n",
            "replace MERGED2008_09_PP.csv? [y]es, [n]o, [A]ll, [N]one, [r]ename: n\n",
            "replace MERGED2009_10_PP.csv? [y]es, [n]o, [A]ll, [N]one, [r]ename: n\n",
            "replace MERGED2010_11_PP.csv? [y]es, [n]o, [A]ll, [N]one, [r]ename: n\n",
            "replace MERGED2011_12_PP.csv? [y]es, [n]o, [A]ll, [N]one, [r]ename: n\n",
            "replace MERGED2012_13_PP.csv? [y]es, [n]o, [A]ll, [N]one, [r]ename: n\n",
            "replace MERGED2013_14_PP.csv? [y]es, [n]o, [A]ll, [N]one, [r]ename: n\n",
            "replace MERGED2014_15_PP.csv? [y]es, [n]o, [A]ll, [N]one, [r]ename: n\n",
            "replace MERGED2015_16_PP.csv? [y]es, [n]o, [A]ll, [N]one, [r]ename: n\n",
            "replace MERGED2016_17_PP.csv? [y]es, [n]o, [A]ll, [N]one, [r]ename: nn\n",
            "replace MERGED2017_18_PP.csv? [y]es, [n]o, [A]ll, [N]one, [r]ename: n\n",
            "replace MERGED2018_19_PP.csv? [y]es, [n]o, [A]ll, [N]one, [r]ename: n\n",
            "replace MERGED2019_20_PP.csv? [y]es, [n]o, [A]ll, [N]one, [r]ename: n\n",
            "replace MERGED2020_21_PP.csv? [y]es, [n]o, [A]ll, [N]one, [r]ename: n\n",
            "replace Most-Recent-Cohorts-Field-of-Study.csv? [y]es, [n]o, [A]ll, [N]one, [r]ename: n\n",
            "replace Most-Recent-Cohorts-Institution.csv? [y]es, [n]o, [A]ll, [N]one, [r]ename: n\n"
          ]
        }
      ]
    },
    {
      "cell_type": "markdown",
      "source": [
        "## Step 3 - Import Libraries"
      ],
      "metadata": {
        "id": "3gWAI-4_gCs2"
      }
    },
    {
      "cell_type": "code",
      "metadata": {
        "id": "CfSasSG36zK1"
      },
      "source": [
        "#(Write code below)\n",
        "import pandas as pd\n",
        "import os"
      ],
      "execution_count": 111,
      "outputs": []
    },
    {
      "cell_type": "code",
      "source": [
        "df_2020 = pd.read_csv(\"/content/MERGED2020_21_PP.csv\", usecols=['UNITID', 'INSTNM', 'TUITIONFEE_IN'])\n",
        "df_2020[\"year\"] = 2020\n",
        "df_2019 = pd.read_csv(\"/content/MERGED2019_20_PP.csv\", usecols=['UNITID', 'INSTNM', 'TUITIONFEE_IN'])\n",
        "df_2019[\"year\"] = 2019\n",
        "#.... (more code)\n",
        "# df_2020 = pd.read_csv(\"/content/MERGED2020_21_PP.csv\")\n",
        "# df_all = pd.concat([df_1996, df_1997, ...., df_2020])\n",
        "df_all = pd.concat([df_2020, df_2019])\n",
        "\n",
        "df_all.sample(10)"
      ],
      "metadata": {
        "id": "KuNWsDj6ttfU",
        "outputId": "51ffd757-767d-4b48-bc23-5bc7b6ba9ad5",
        "colab": {
          "base_uri": "https://localhost:8080/",
          "height": 363
        }
      },
      "execution_count": 112,
      "outputs": [
        {
          "output_type": "execute_result",
          "data": {
            "text/plain": [
              "        UNITID                                         INSTNM  TUITIONFEE_IN  \\\n",
              "1371    162122                   College of Southern Maryland         3930.0   \n",
              "2146    191083                         Erie Community College         5575.0   \n",
              "6220  11917301  Mount Saint Mary's University - Doheny Campus        42792.0   \n",
              "3654    242149                   ICPR Junior College-Mayaguez         7010.0   \n",
              "5336    461883                  Millennia Atlantic University        11372.0   \n",
              "2241    195474                                  Siena College        40175.0   \n",
              "4282    430306                 Cayce/Reilly School of Massage            NaN   \n",
              "4375    430795                           Carver Career Center            NaN   \n",
              "2850    213233                                Johnson College        19745.0   \n",
              "3566    238759                      Gateway Technical College         4621.0   \n",
              "\n",
              "      year  \n",
              "1371  2019  \n",
              "2146  2019  \n",
              "6220  2019  \n",
              "3654  2020  \n",
              "5336  2019  \n",
              "2241  2020  \n",
              "4282  2020  \n",
              "4375  2019  \n",
              "2850  2019  \n",
              "3566  2020  "
            ],
            "text/html": [
              "\n",
              "  <div id=\"df-38401600-25b7-42f2-8846-76bc17199fa7\">\n",
              "    <div class=\"colab-df-container\">\n",
              "      <div>\n",
              "<style scoped>\n",
              "    .dataframe tbody tr th:only-of-type {\n",
              "        vertical-align: middle;\n",
              "    }\n",
              "\n",
              "    .dataframe tbody tr th {\n",
              "        vertical-align: top;\n",
              "    }\n",
              "\n",
              "    .dataframe thead th {\n",
              "        text-align: right;\n",
              "    }\n",
              "</style>\n",
              "<table border=\"1\" class=\"dataframe\">\n",
              "  <thead>\n",
              "    <tr style=\"text-align: right;\">\n",
              "      <th></th>\n",
              "      <th>UNITID</th>\n",
              "      <th>INSTNM</th>\n",
              "      <th>TUITIONFEE_IN</th>\n",
              "      <th>year</th>\n",
              "    </tr>\n",
              "  </thead>\n",
              "  <tbody>\n",
              "    <tr>\n",
              "      <th>1371</th>\n",
              "      <td>162122</td>\n",
              "      <td>College of Southern Maryland</td>\n",
              "      <td>3930.0</td>\n",
              "      <td>2019</td>\n",
              "    </tr>\n",
              "    <tr>\n",
              "      <th>2146</th>\n",
              "      <td>191083</td>\n",
              "      <td>Erie Community College</td>\n",
              "      <td>5575.0</td>\n",
              "      <td>2019</td>\n",
              "    </tr>\n",
              "    <tr>\n",
              "      <th>6220</th>\n",
              "      <td>11917301</td>\n",
              "      <td>Mount Saint Mary's University - Doheny Campus</td>\n",
              "      <td>42792.0</td>\n",
              "      <td>2019</td>\n",
              "    </tr>\n",
              "    <tr>\n",
              "      <th>3654</th>\n",
              "      <td>242149</td>\n",
              "      <td>ICPR Junior College-Mayaguez</td>\n",
              "      <td>7010.0</td>\n",
              "      <td>2020</td>\n",
              "    </tr>\n",
              "    <tr>\n",
              "      <th>5336</th>\n",
              "      <td>461883</td>\n",
              "      <td>Millennia Atlantic University</td>\n",
              "      <td>11372.0</td>\n",
              "      <td>2019</td>\n",
              "    </tr>\n",
              "    <tr>\n",
              "      <th>2241</th>\n",
              "      <td>195474</td>\n",
              "      <td>Siena College</td>\n",
              "      <td>40175.0</td>\n",
              "      <td>2020</td>\n",
              "    </tr>\n",
              "    <tr>\n",
              "      <th>4282</th>\n",
              "      <td>430306</td>\n",
              "      <td>Cayce/Reilly School of Massage</td>\n",
              "      <td>NaN</td>\n",
              "      <td>2020</td>\n",
              "    </tr>\n",
              "    <tr>\n",
              "      <th>4375</th>\n",
              "      <td>430795</td>\n",
              "      <td>Carver Career Center</td>\n",
              "      <td>NaN</td>\n",
              "      <td>2019</td>\n",
              "    </tr>\n",
              "    <tr>\n",
              "      <th>2850</th>\n",
              "      <td>213233</td>\n",
              "      <td>Johnson College</td>\n",
              "      <td>19745.0</td>\n",
              "      <td>2019</td>\n",
              "    </tr>\n",
              "    <tr>\n",
              "      <th>3566</th>\n",
              "      <td>238759</td>\n",
              "      <td>Gateway Technical College</td>\n",
              "      <td>4621.0</td>\n",
              "      <td>2020</td>\n",
              "    </tr>\n",
              "  </tbody>\n",
              "</table>\n",
              "</div>\n",
              "      <button class=\"colab-df-convert\" onclick=\"convertToInteractive('df-38401600-25b7-42f2-8846-76bc17199fa7')\"\n",
              "              title=\"Convert this dataframe to an interactive table.\"\n",
              "              style=\"display:none;\">\n",
              "        \n",
              "  <svg xmlns=\"http://www.w3.org/2000/svg\" height=\"24px\"viewBox=\"0 0 24 24\"\n",
              "       width=\"24px\">\n",
              "    <path d=\"M0 0h24v24H0V0z\" fill=\"none\"/>\n",
              "    <path d=\"M18.56 5.44l.94 2.06.94-2.06 2.06-.94-2.06-.94-.94-2.06-.94 2.06-2.06.94zm-11 1L8.5 8.5l.94-2.06 2.06-.94-2.06-.94L8.5 2.5l-.94 2.06-2.06.94zm10 10l.94 2.06.94-2.06 2.06-.94-2.06-.94-.94-2.06-.94 2.06-2.06.94z\"/><path d=\"M17.41 7.96l-1.37-1.37c-.4-.4-.92-.59-1.43-.59-.52 0-1.04.2-1.43.59L10.3 9.45l-7.72 7.72c-.78.78-.78 2.05 0 2.83L4 21.41c.39.39.9.59 1.41.59.51 0 1.02-.2 1.41-.59l7.78-7.78 2.81-2.81c.8-.78.8-2.07 0-2.86zM5.41 20L4 18.59l7.72-7.72 1.47 1.35L5.41 20z\"/>\n",
              "  </svg>\n",
              "      </button>\n",
              "      \n",
              "  <style>\n",
              "    .colab-df-container {\n",
              "      display:flex;\n",
              "      flex-wrap:wrap;\n",
              "      gap: 12px;\n",
              "    }\n",
              "\n",
              "    .colab-df-convert {\n",
              "      background-color: #E8F0FE;\n",
              "      border: none;\n",
              "      border-radius: 50%;\n",
              "      cursor: pointer;\n",
              "      display: none;\n",
              "      fill: #1967D2;\n",
              "      height: 32px;\n",
              "      padding: 0 0 0 0;\n",
              "      width: 32px;\n",
              "    }\n",
              "\n",
              "    .colab-df-convert:hover {\n",
              "      background-color: #E2EBFA;\n",
              "      box-shadow: 0px 1px 2px rgba(60, 64, 67, 0.3), 0px 1px 3px 1px rgba(60, 64, 67, 0.15);\n",
              "      fill: #174EA6;\n",
              "    }\n",
              "\n",
              "    [theme=dark] .colab-df-convert {\n",
              "      background-color: #3B4455;\n",
              "      fill: #D2E3FC;\n",
              "    }\n",
              "\n",
              "    [theme=dark] .colab-df-convert:hover {\n",
              "      background-color: #434B5C;\n",
              "      box-shadow: 0px 1px 3px 1px rgba(0, 0, 0, 0.15);\n",
              "      filter: drop-shadow(0px 1px 2px rgba(0, 0, 0, 0.3));\n",
              "      fill: #FFFFFF;\n",
              "    }\n",
              "  </style>\n",
              "\n",
              "      <script>\n",
              "        const buttonEl =\n",
              "          document.querySelector('#df-38401600-25b7-42f2-8846-76bc17199fa7 button.colab-df-convert');\n",
              "        buttonEl.style.display =\n",
              "          google.colab.kernel.accessAllowed ? 'block' : 'none';\n",
              "\n",
              "        async function convertToInteractive(key) {\n",
              "          const element = document.querySelector('#df-38401600-25b7-42f2-8846-76bc17199fa7');\n",
              "          const dataTable =\n",
              "            await google.colab.kernel.invokeFunction('convertToInteractive',\n",
              "                                                     [key], {});\n",
              "          if (!dataTable) return;\n",
              "\n",
              "          const docLinkHtml = 'Like what you see? Visit the ' +\n",
              "            '<a target=\"_blank\" href=https://colab.research.google.com/notebooks/data_table.ipynb>data table notebook</a>'\n",
              "            + ' to learn more about interactive tables.';\n",
              "          element.innerHTML = '';\n",
              "          dataTable['output_type'] = 'display_data';\n",
              "          await google.colab.output.renderOutput(dataTable, element);\n",
              "          const docLink = document.createElement('div');\n",
              "          docLink.innerHTML = docLinkHtml;\n",
              "          element.appendChild(docLink);\n",
              "        }\n",
              "      </script>\n",
              "    </div>\n",
              "  </div>\n",
              "  "
            ]
          },
          "metadata": {},
          "execution_count": 112
        }
      ]
    },
    {
      "cell_type": "markdown",
      "source": [
        "## Step 4 - Display the current working directory using os.getcwd()\n",
        "\n",
        "You would need to import a standard Python library called os which stands for operating system. so place that import statement in the previous cell. Since your notebook and your data files may or may not in the same folder, you want to make sure what the current working folder is and how to access a data file in a different folder."
      ],
      "metadata": {
        "id": "zNVWs_R9gKrr"
      }
    },
    {
      "cell_type": "code",
      "metadata": {
        "id": "duwKxi1L6zK5",
        "outputId": "20b0df4a-d677-43ca-d2a0-ee5937cf6ee3",
        "colab": {
          "base_uri": "https://localhost:8080/",
          "height": 36
        }
      },
      "source": [
        "#(Write code below)\n",
        "os.getcwd()\n"
      ],
      "execution_count": 113,
      "outputs": [
        {
          "output_type": "execute_result",
          "data": {
            "text/plain": [
              "'/content'"
            ],
            "application/vnd.google.colaboratory.intrinsic+json": {
              "type": "string"
            }
          },
          "metadata": {},
          "execution_count": 113
        }
      ]
    },
    {
      "cell_type": "markdown",
      "source": [
        "## Step 5 - Get the list of file names\n",
        "\n",
        "os library has a method call listdir which generates a list of files in a directory/folder. Use this method to assign the contents (list of file names) of the data folder to a variable and display it. If necessary, you can use ../ construct to traverse to the parent folder and then to another foloder parallel to the current folder\n"
      ],
      "metadata": {
        "id": "SxFHpsKSgxzv"
      }
    },
    {
      "cell_type": "code",
      "metadata": {
        "id": "LMBN0HsY6zLA",
        "outputId": "97d2f852-b28a-4fe2-f5cd-0791035f4c26",
        "colab": {
          "base_uri": "https://localhost:8080/"
        }
      },
      "source": [
        "#(Write code below)\n",
        "name_list = os.listdir()\n",
        "name_list"
      ],
      "execution_count": 114,
      "outputs": [
        {
          "output_type": "execute_result",
          "data": {
            "text/plain": [
              "['.config',\n",
              " 'MERGED2006_07_PP.csv',\n",
              " 'MERGED2009_10_PP.csv',\n",
              " 'MERGED2003_04_PP.csv',\n",
              " 'MERGED1998_99_PP.csv',\n",
              " 'Crosswalks.zip',\n",
              " 'MERGED2012_13_PP.csv',\n",
              " 'MERGED2019_20_PP.csv',\n",
              " 'MERGED2011_12_PP.csv',\n",
              " 'MERGED2014_15_PP.csv',\n",
              " 'Most-Recent-Cohorts-Field-of-Study.csv',\n",
              " 'MERGED2000_01_PP.csv',\n",
              " 'MERGED2007_08_PP.csv',\n",
              " 'MERGED2016_17_PP.csv',\n",
              " 'FieldOfStudyData1718_1819_PP.csv',\n",
              " 'MERGED2018_19_PP.csv',\n",
              " 'MERGED2008_09_PP.csv',\n",
              " 'MERGED2002_03_PP.csv',\n",
              " 'MERGED2004_05_PP.csv',\n",
              " 'MERGED2010_11_PP.csv',\n",
              " 'MERGED2013_14_PP.csv',\n",
              " 'MERGED2005_06_PP.csv',\n",
              " 'CollegeScorecard_Raw_Data_09012022.zip.1',\n",
              " 'FieldOfStudyData1516_1617_PP.csv',\n",
              " 'MERGED1999_00_PP.csv',\n",
              " 'MERGED2015_16_PP.csv',\n",
              " 'MERGED1996_97_PP.csv',\n",
              " 'FieldOfStudyData1415_1516_PP.csv',\n",
              " 'CollegeScorecard_Raw_Data_09012022.zip.2',\n",
              " 'FieldOfStudyData1617_1718_PP.csv',\n",
              " 'MERGED2017_18_PP.csv',\n",
              " 'data.yaml',\n",
              " 'Most-Recent-Cohorts-Institution.csv',\n",
              " 'MERGED1997_98_PP.csv',\n",
              " 'MERGED2020_21_PP.csv',\n",
              " 'CollegeScorecard_Raw_Data_09012022.zip',\n",
              " 'MERGED2001_02_PP.csv',\n",
              " 'sample_data']"
            ]
          },
          "metadata": {},
          "execution_count": 114
        }
      ]
    },
    {
      "cell_type": "markdown",
      "source": [
        "## Step 6 - Process only the yearly data files\n",
        "\n",
        "The folder contains files that are not the yearly data files. Write code to remove the unwanted files from the list variable.\n",
        "\n",
        "Note: don't remove/delete these files from the folder in the folder.\n",
        "For example, use the file extension to only use the csv files or use the name patter - data file name begins with \"MERGED\". You can use the concept of list comprehension to write just *one* line of code as well as using a for loop, your choice."
      ],
      "metadata": {
        "id": "XtKgf-SMhL0z"
      }
    },
    {
      "cell_type": "code",
      "metadata": {
        "id": "UCDRqtrf6zLL",
        "outputId": "db79b304-e0b8-411d-dfa8-cfd8946d4414",
        "colab": {
          "base_uri": "https://localhost:8080/"
        }
      },
      "source": [
        "#(Write code below)\n",
        "x = [1,3,6,8]\n",
        "y = []\n",
        "for num in x:\n",
        "    y.append(num ** 2)\n",
        "\n",
        "y"
      ],
      "execution_count": 115,
      "outputs": [
        {
          "output_type": "execute_result",
          "data": {
            "text/plain": [
              "[1, 9, 36, 64]"
            ]
          },
          "metadata": {},
          "execution_count": 115
        }
      ]
    },
    {
      "cell_type": "code",
      "source": [
        "x = [1,3,6,8]\n",
        "y = []\n",
        "\n",
        "for num in x:\n",
        "    if num % 2 == 0:\n",
        "       y.append(num ** 2)\n",
        "\n",
        "y"
      ],
      "metadata": {
        "id": "2ev5VcGIu148",
        "outputId": "33200e11-23af-4086-e7b3-112d14fa3d47",
        "colab": {
          "base_uri": "https://localhost:8080/"
        }
      },
      "execution_count": 116,
      "outputs": [
        {
          "output_type": "execute_result",
          "data": {
            "text/plain": [
              "[36, 64]"
            ]
          },
          "metadata": {},
          "execution_count": 116
        }
      ]
    },
    {
      "cell_type": "code",
      "source": [
        "# using List comprehension\n",
        "y = [num **2 for num in x]\n",
        "y"
      ],
      "metadata": {
        "id": "kzvlBaKvu3JY",
        "outputId": "4632fd0e-e973-4bee-a09d-e0df88403bbb",
        "colab": {
          "base_uri": "https://localhost:8080/"
        }
      },
      "execution_count": 117,
      "outputs": [
        {
          "output_type": "execute_result",
          "data": {
            "text/plain": [
              "[1, 9, 36, 64]"
            ]
          },
          "metadata": {},
          "execution_count": 117
        }
      ]
    },
    {
      "cell_type": "code",
      "source": [
        "# using List comprehension with condition\n",
        "y = [num **2 for num in x if num % 2 == 0]\n",
        "y"
      ],
      "metadata": {
        "id": "Y-vheiiju9S5",
        "outputId": "ad30103e-b70d-4715-be7c-8ca4e86954d4",
        "colab": {
          "base_uri": "https://localhost:8080/"
        }
      },
      "execution_count": 118,
      "outputs": [
        {
          "output_type": "execute_result",
          "data": {
            "text/plain": [
              "[36, 64]"
            ]
          },
          "metadata": {},
          "execution_count": 118
        }
      ]
    },
    {
      "cell_type": "code",
      "source": [
        "yearly_list = [file_name for file_name in name_list if file_name.startswith(\"MERGED\")]\n",
        "\n",
        "yearly_list"
      ],
      "metadata": {
        "id": "IBC8Y5G3vAfj",
        "outputId": "8ece4c9d-ea22-4618-a002-bc1ae8ae7e92",
        "colab": {
          "base_uri": "https://localhost:8080/"
        }
      },
      "execution_count": 119,
      "outputs": [
        {
          "output_type": "execute_result",
          "data": {
            "text/plain": [
              "['MERGED2006_07_PP.csv',\n",
              " 'MERGED2009_10_PP.csv',\n",
              " 'MERGED2003_04_PP.csv',\n",
              " 'MERGED1998_99_PP.csv',\n",
              " 'MERGED2012_13_PP.csv',\n",
              " 'MERGED2019_20_PP.csv',\n",
              " 'MERGED2011_12_PP.csv',\n",
              " 'MERGED2014_15_PP.csv',\n",
              " 'MERGED2000_01_PP.csv',\n",
              " 'MERGED2007_08_PP.csv',\n",
              " 'MERGED2016_17_PP.csv',\n",
              " 'MERGED2018_19_PP.csv',\n",
              " 'MERGED2008_09_PP.csv',\n",
              " 'MERGED2002_03_PP.csv',\n",
              " 'MERGED2004_05_PP.csv',\n",
              " 'MERGED2010_11_PP.csv',\n",
              " 'MERGED2013_14_PP.csv',\n",
              " 'MERGED2005_06_PP.csv',\n",
              " 'MERGED1999_00_PP.csv',\n",
              " 'MERGED2015_16_PP.csv',\n",
              " 'MERGED1996_97_PP.csv',\n",
              " 'MERGED2017_18_PP.csv',\n",
              " 'MERGED1997_98_PP.csv',\n",
              " 'MERGED2020_21_PP.csv',\n",
              " 'MERGED2001_02_PP.csv']"
            ]
          },
          "metadata": {},
          "execution_count": 119
        }
      ]
    },
    {
      "cell_type": "markdown",
      "source": [
        "## Step 7 - Load data files\n",
        " \n",
        "Now that you have a clean list of the yearly files, you want to loop through them and read them into a dataframe one at a time. You only load six columns: [\"UNITID\", \"INSTNM\", \"STABBR\", \"REGION\", \"ADM_RATE\", \"TUITIONFEE_IN\"].\n",
        "\n",
        "You should use \"usecols\" option of Pandas to avoid reading unwanted columns. You also want to add a new column call \"YEAR\" to differentiate the data frames from each other. The YEAR variable should be yyyy format so tht you can convert them into integer. If you use the format yyyy-yy (such as 1997-98 school year), you will not be able to convert them directly to integer. If you use scatter plot, the YEAR needs to be converted to integer or float. \n",
        "\n",
        "You would use an empty list and append the yearly dataframes to the list. After all data files are loaded and appended to the list, you would use Pandas to concatenate them into a new single data frame.\n",
        "\n",
        "Note: this exercise incorporates many techques we learned before:\n",
        "\n",
        "- list (creating an empty, append an item to the list)\n",
        "- for loop \n",
        "- read only the needed columns from a file (using usecols option)\n",
        "- add a new column to a data frame\n",
        "- concatenate multiple dataframes into a single one\n",
        "\n",
        "This exercise may appear challenging but it worths the effort. You will learn a lot and love it. I promise."
      ],
      "metadata": {
        "id": "UbrfZBRThtG8"
      }
    },
    {
      "cell_type": "code",
      "metadata": {
        "id": "rtrB8C_R6zLS",
        "outputId": "3d4a7c62-7001-4290-cca2-40f47c77e24e",
        "colab": {
          "base_uri": "https://localhost:8080/",
          "height": 0
        }
      },
      "source": [
        "#(Write code here)\n",
        "x = \"MERGED2020_21_PP.csv\"\n",
        "\n",
        "x[6:10]"
      ],
      "execution_count": 120,
      "outputs": [
        {
          "output_type": "execute_result",
          "data": {
            "text/plain": [
              "'2020'"
            ],
            "application/vnd.google.colaboratory.intrinsic+json": {
              "type": "string"
            }
          },
          "metadata": {},
          "execution_count": 120
        }
      ]
    },
    {
      "cell_type": "code",
      "source": [
        "#(Write code here)\n",
        "\n",
        "# df_all = pd.DataFrame()  this empty dataframe does not work for the append method.\n",
        "\n",
        "yearly_list.sort()\n",
        "\n",
        "print(\"processing file\", yearly_list[0])\n",
        "df_all = pd.read_csv(\"/content/\" + yearly_list[0], usecols=['UNITID', 'INSTNM', 'TUITIONFEE_IN'])\n",
        "df_all[\"year\"] = yearly_list[0][6:10]\n",
        "print(df_all.shape)\n",
        "\n",
        "for yearly_file in yearly_list[1:]:\n",
        "    print(\"processing file\", yearly_file)\n",
        "    df = pd.read_csv(\"/content/\" + yearly_file, usecols=['UNITID', 'INSTNM', 'TUITIONFEE_IN'])\n",
        "    df[\"year\"] = yearly_file[6:10]\n",
        "    df_all = df_all.append(df, ignore_index = True)\n",
        "    print(df_all.shape)"
      ],
      "metadata": {
        "id": "_8R3Ff2RvRyx",
        "outputId": "c4a4e03c-ec8e-4463-bc76-2efea9d57fc6",
        "colab": {
          "base_uri": "https://localhost:8080/"
        }
      },
      "execution_count": 79,
      "outputs": [
        {
          "output_type": "stream",
          "name": "stdout",
          "text": [
            "processing file MERGED1996_97_PP.csv\n",
            "(7007, 4)\n",
            "processing file MERGED1997_98_PP.csv\n",
            "(13941, 4)\n",
            "processing file MERGED1998_99_PP.csv\n",
            "(20643, 4)\n",
            "processing file MERGED1999_00_PP.csv\n",
            "(27252, 4)\n",
            "processing file MERGED2000_01_PP.csv\n",
            "(33906, 4)\n",
            "processing file MERGED2001_02_PP.csv\n",
            "(40631, 4)\n",
            "processing file MERGED2002_03_PP.csv\n",
            "(47283, 4)\n",
            "processing file MERGED2003_04_PP.csv\n",
            "(53956, 4)\n",
            "processing file MERGED2004_05_PP.csv\n",
            "(60703, 4)\n",
            "processing file MERGED2005_06_PP.csv\n",
            "(67602, 4)\n",
            "processing file MERGED2006_07_PP.csv\n",
            "(74553, 4)\n",
            "processing file MERGED2007_08_PP.csv\n",
            "(81524, 4)\n",
            "processing file MERGED2008_09_PP.csv\n",
            "(88579, 4)\n",
            "processing file MERGED2009_10_PP.csv\n",
            "(95796, 4)\n",
            "processing file MERGED2010_11_PP.csv\n",
            "(103266, 4)\n",
            "processing file MERGED2011_12_PP.csv\n",
            "(111012, 4)\n",
            "processing file MERGED2012_13_PP.csv\n",
            "(118874, 4)\n",
            "processing file MERGED2013_14_PP.csv\n",
            "(126743, 4)\n",
            "processing file MERGED2014_15_PP.csv\n",
            "(134509, 4)\n",
            "processing file MERGED2015_16_PP.csv\n",
            "(142175, 4)\n",
            "processing file MERGED2016_17_PP.csv\n",
            "(149413, 4)\n",
            "processing file MERGED2017_18_PP.csv\n",
            "(156525, 4)\n",
            "processing file MERGED2018_19_PP.csv\n",
            "(163332, 4)\n",
            "processing file MERGED2019_20_PP.csv\n",
            "(170026, 4)\n",
            "processing file MERGED2020_21_PP.csv\n",
            "(176707, 4)\n"
          ]
        }
      ]
    },
    {
      "cell_type": "code",
      "source": [
        "df_all.sample(10)\n"
      ],
      "metadata": {
        "id": "uA0msxIKwdjE",
        "outputId": "643ae8da-308f-4e75-9323-8d8d812d5855",
        "colab": {
          "base_uri": "https://localhost:8080/",
          "height": 0
        }
      },
      "execution_count": 80,
      "outputs": [
        {
          "output_type": "execute_result",
          "data": {
            "text/plain": [
              "        UNITID                                          INSTNM  TUITIONFEE_IN  \\\n",
              "104348  144218  City Colleges of Chicago-Wilbur Wright College         3070.0   \n",
              "129144  189468                         Brittany Beauty Academy            NaN   \n",
              "151115  171304                      Muskegon Community College         5550.0   \n",
              "128199  157483   West Kentucky Community and Technical College         3624.0   \n",
              "105245  172972                   Apostolic Bible Institute Inc         3170.0   \n",
              "135935  158246                            Ayers Career College            NaN   \n",
              "85930   237729               Academy of Careers and Technology            NaN   \n",
              "72386   260789                       Platt College-Los Angeles        26475.0   \n",
              "22916   172963                  Anoka-Ramsey Community College            NaN   \n",
              "38509   233842                     Union Presbyterian Seminary            NaN   \n",
              "\n",
              "        year  \n",
              "104348  2011  \n",
              "129144  2014  \n",
              "151115  2017  \n",
              "128199  2014  \n",
              "105245  2011  \n",
              "135935  2015  \n",
              "85930   2008  \n",
              "72386   2006  \n",
              "22916   1999  \n",
              "38509   2001  "
            ],
            "text/html": [
              "\n",
              "  <div id=\"df-26eaf419-f3d2-4490-b3c9-22251220c0b9\">\n",
              "    <div class=\"colab-df-container\">\n",
              "      <div>\n",
              "<style scoped>\n",
              "    .dataframe tbody tr th:only-of-type {\n",
              "        vertical-align: middle;\n",
              "    }\n",
              "\n",
              "    .dataframe tbody tr th {\n",
              "        vertical-align: top;\n",
              "    }\n",
              "\n",
              "    .dataframe thead th {\n",
              "        text-align: right;\n",
              "    }\n",
              "</style>\n",
              "<table border=\"1\" class=\"dataframe\">\n",
              "  <thead>\n",
              "    <tr style=\"text-align: right;\">\n",
              "      <th></th>\n",
              "      <th>UNITID</th>\n",
              "      <th>INSTNM</th>\n",
              "      <th>TUITIONFEE_IN</th>\n",
              "      <th>year</th>\n",
              "    </tr>\n",
              "  </thead>\n",
              "  <tbody>\n",
              "    <tr>\n",
              "      <th>104348</th>\n",
              "      <td>144218</td>\n",
              "      <td>City Colleges of Chicago-Wilbur Wright College</td>\n",
              "      <td>3070.0</td>\n",
              "      <td>2011</td>\n",
              "    </tr>\n",
              "    <tr>\n",
              "      <th>129144</th>\n",
              "      <td>189468</td>\n",
              "      <td>Brittany Beauty Academy</td>\n",
              "      <td>NaN</td>\n",
              "      <td>2014</td>\n",
              "    </tr>\n",
              "    <tr>\n",
              "      <th>151115</th>\n",
              "      <td>171304</td>\n",
              "      <td>Muskegon Community College</td>\n",
              "      <td>5550.0</td>\n",
              "      <td>2017</td>\n",
              "    </tr>\n",
              "    <tr>\n",
              "      <th>128199</th>\n",
              "      <td>157483</td>\n",
              "      <td>West Kentucky Community and Technical College</td>\n",
              "      <td>3624.0</td>\n",
              "      <td>2014</td>\n",
              "    </tr>\n",
              "    <tr>\n",
              "      <th>105245</th>\n",
              "      <td>172972</td>\n",
              "      <td>Apostolic Bible Institute Inc</td>\n",
              "      <td>3170.0</td>\n",
              "      <td>2011</td>\n",
              "    </tr>\n",
              "    <tr>\n",
              "      <th>135935</th>\n",
              "      <td>158246</td>\n",
              "      <td>Ayers Career College</td>\n",
              "      <td>NaN</td>\n",
              "      <td>2015</td>\n",
              "    </tr>\n",
              "    <tr>\n",
              "      <th>85930</th>\n",
              "      <td>237729</td>\n",
              "      <td>Academy of Careers and Technology</td>\n",
              "      <td>NaN</td>\n",
              "      <td>2008</td>\n",
              "    </tr>\n",
              "    <tr>\n",
              "      <th>72386</th>\n",
              "      <td>260789</td>\n",
              "      <td>Platt College-Los Angeles</td>\n",
              "      <td>26475.0</td>\n",
              "      <td>2006</td>\n",
              "    </tr>\n",
              "    <tr>\n",
              "      <th>22916</th>\n",
              "      <td>172963</td>\n",
              "      <td>Anoka-Ramsey Community College</td>\n",
              "      <td>NaN</td>\n",
              "      <td>1999</td>\n",
              "    </tr>\n",
              "    <tr>\n",
              "      <th>38509</th>\n",
              "      <td>233842</td>\n",
              "      <td>Union Presbyterian Seminary</td>\n",
              "      <td>NaN</td>\n",
              "      <td>2001</td>\n",
              "    </tr>\n",
              "  </tbody>\n",
              "</table>\n",
              "</div>\n",
              "      <button class=\"colab-df-convert\" onclick=\"convertToInteractive('df-26eaf419-f3d2-4490-b3c9-22251220c0b9')\"\n",
              "              title=\"Convert this dataframe to an interactive table.\"\n",
              "              style=\"display:none;\">\n",
              "        \n",
              "  <svg xmlns=\"http://www.w3.org/2000/svg\" height=\"24px\"viewBox=\"0 0 24 24\"\n",
              "       width=\"24px\">\n",
              "    <path d=\"M0 0h24v24H0V0z\" fill=\"none\"/>\n",
              "    <path d=\"M18.56 5.44l.94 2.06.94-2.06 2.06-.94-2.06-.94-.94-2.06-.94 2.06-2.06.94zm-11 1L8.5 8.5l.94-2.06 2.06-.94-2.06-.94L8.5 2.5l-.94 2.06-2.06.94zm10 10l.94 2.06.94-2.06 2.06-.94-2.06-.94-.94-2.06-.94 2.06-2.06.94z\"/><path d=\"M17.41 7.96l-1.37-1.37c-.4-.4-.92-.59-1.43-.59-.52 0-1.04.2-1.43.59L10.3 9.45l-7.72 7.72c-.78.78-.78 2.05 0 2.83L4 21.41c.39.39.9.59 1.41.59.51 0 1.02-.2 1.41-.59l7.78-7.78 2.81-2.81c.8-.78.8-2.07 0-2.86zM5.41 20L4 18.59l7.72-7.72 1.47 1.35L5.41 20z\"/>\n",
              "  </svg>\n",
              "      </button>\n",
              "      \n",
              "  <style>\n",
              "    .colab-df-container {\n",
              "      display:flex;\n",
              "      flex-wrap:wrap;\n",
              "      gap: 12px;\n",
              "    }\n",
              "\n",
              "    .colab-df-convert {\n",
              "      background-color: #E8F0FE;\n",
              "      border: none;\n",
              "      border-radius: 50%;\n",
              "      cursor: pointer;\n",
              "      display: none;\n",
              "      fill: #1967D2;\n",
              "      height: 32px;\n",
              "      padding: 0 0 0 0;\n",
              "      width: 32px;\n",
              "    }\n",
              "\n",
              "    .colab-df-convert:hover {\n",
              "      background-color: #E2EBFA;\n",
              "      box-shadow: 0px 1px 2px rgba(60, 64, 67, 0.3), 0px 1px 3px 1px rgba(60, 64, 67, 0.15);\n",
              "      fill: #174EA6;\n",
              "    }\n",
              "\n",
              "    [theme=dark] .colab-df-convert {\n",
              "      background-color: #3B4455;\n",
              "      fill: #D2E3FC;\n",
              "    }\n",
              "\n",
              "    [theme=dark] .colab-df-convert:hover {\n",
              "      background-color: #434B5C;\n",
              "      box-shadow: 0px 1px 3px 1px rgba(0, 0, 0, 0.15);\n",
              "      filter: drop-shadow(0px 1px 2px rgba(0, 0, 0, 0.3));\n",
              "      fill: #FFFFFF;\n",
              "    }\n",
              "  </style>\n",
              "\n",
              "      <script>\n",
              "        const buttonEl =\n",
              "          document.querySelector('#df-26eaf419-f3d2-4490-b3c9-22251220c0b9 button.colab-df-convert');\n",
              "        buttonEl.style.display =\n",
              "          google.colab.kernel.accessAllowed ? 'block' : 'none';\n",
              "\n",
              "        async function convertToInteractive(key) {\n",
              "          const element = document.querySelector('#df-26eaf419-f3d2-4490-b3c9-22251220c0b9');\n",
              "          const dataTable =\n",
              "            await google.colab.kernel.invokeFunction('convertToInteractive',\n",
              "                                                     [key], {});\n",
              "          if (!dataTable) return;\n",
              "\n",
              "          const docLinkHtml = 'Like what you see? Visit the ' +\n",
              "            '<a target=\"_blank\" href=https://colab.research.google.com/notebooks/data_table.ipynb>data table notebook</a>'\n",
              "            + ' to learn more about interactive tables.';\n",
              "          element.innerHTML = '';\n",
              "          dataTable['output_type'] = 'display_data';\n",
              "          await google.colab.output.renderOutput(dataTable, element);\n",
              "          const docLink = document.createElement('div');\n",
              "          docLink.innerHTML = docLinkHtml;\n",
              "          element.appendChild(docLink);\n",
              "        }\n",
              "      </script>\n",
              "    </div>\n",
              "  </div>\n",
              "  "
            ]
          },
          "metadata": {},
          "execution_count": 80
        }
      ]
    },
    {
      "cell_type": "markdown",
      "source": [
        "## Step 8 - Explore the new dataframe \n",
        "\n",
        "For example, # of observations, varibles, head, tail, sample, missing values, statistics, etc."
      ],
      "metadata": {
        "id": "M-OsDFXFiZd-"
      }
    },
    {
      "cell_type": "code",
      "metadata": {
        "id": "riJxj3vU6zLY",
        "outputId": "1e0fbc0b-bd9e-4b38-b32a-d5ba97c7745b",
        "colab": {
          "base_uri": "https://localhost:8080/"
        }
      },
      "source": [
        "#(Write code here)\n",
        "df.shape"
      ],
      "execution_count": 81,
      "outputs": [
        {
          "output_type": "execute_result",
          "data": {
            "text/plain": [
              "(6681, 4)"
            ]
          },
          "metadata": {},
          "execution_count": 81
        }
      ]
    },
    {
      "cell_type": "code",
      "source": [
        "df.isnull()"
      ],
      "metadata": {
        "id": "3w5OAEd0xEhv",
        "outputId": "76af6eb5-fd68-4420-b941-947b9ab1aa38",
        "colab": {
          "base_uri": "https://localhost:8080/",
          "height": 0
        }
      },
      "execution_count": 82,
      "outputs": [
        {
          "output_type": "execute_result",
          "data": {
            "text/plain": [
              "      UNITID  INSTNM  TUITIONFEE_IN   year\n",
              "0      False   False          False  False\n",
              "1      False   False          False  False\n",
              "2      False   False          False  False\n",
              "3      False   False          False  False\n",
              "4      False   False          False  False\n",
              "...      ...     ...            ...    ...\n",
              "6676   False   False          False  False\n",
              "6677   False   False          False  False\n",
              "6678   False   False           True  False\n",
              "6679   False   False          False  False\n",
              "6680   False   False          False  False\n",
              "\n",
              "[6681 rows x 4 columns]"
            ],
            "text/html": [
              "\n",
              "  <div id=\"df-50c2b6d8-ccbc-40d9-a6b2-bed6cbcdae66\">\n",
              "    <div class=\"colab-df-container\">\n",
              "      <div>\n",
              "<style scoped>\n",
              "    .dataframe tbody tr th:only-of-type {\n",
              "        vertical-align: middle;\n",
              "    }\n",
              "\n",
              "    .dataframe tbody tr th {\n",
              "        vertical-align: top;\n",
              "    }\n",
              "\n",
              "    .dataframe thead th {\n",
              "        text-align: right;\n",
              "    }\n",
              "</style>\n",
              "<table border=\"1\" class=\"dataframe\">\n",
              "  <thead>\n",
              "    <tr style=\"text-align: right;\">\n",
              "      <th></th>\n",
              "      <th>UNITID</th>\n",
              "      <th>INSTNM</th>\n",
              "      <th>TUITIONFEE_IN</th>\n",
              "      <th>year</th>\n",
              "    </tr>\n",
              "  </thead>\n",
              "  <tbody>\n",
              "    <tr>\n",
              "      <th>0</th>\n",
              "      <td>False</td>\n",
              "      <td>False</td>\n",
              "      <td>False</td>\n",
              "      <td>False</td>\n",
              "    </tr>\n",
              "    <tr>\n",
              "      <th>1</th>\n",
              "      <td>False</td>\n",
              "      <td>False</td>\n",
              "      <td>False</td>\n",
              "      <td>False</td>\n",
              "    </tr>\n",
              "    <tr>\n",
              "      <th>2</th>\n",
              "      <td>False</td>\n",
              "      <td>False</td>\n",
              "      <td>False</td>\n",
              "      <td>False</td>\n",
              "    </tr>\n",
              "    <tr>\n",
              "      <th>3</th>\n",
              "      <td>False</td>\n",
              "      <td>False</td>\n",
              "      <td>False</td>\n",
              "      <td>False</td>\n",
              "    </tr>\n",
              "    <tr>\n",
              "      <th>4</th>\n",
              "      <td>False</td>\n",
              "      <td>False</td>\n",
              "      <td>False</td>\n",
              "      <td>False</td>\n",
              "    </tr>\n",
              "    <tr>\n",
              "      <th>...</th>\n",
              "      <td>...</td>\n",
              "      <td>...</td>\n",
              "      <td>...</td>\n",
              "      <td>...</td>\n",
              "    </tr>\n",
              "    <tr>\n",
              "      <th>6676</th>\n",
              "      <td>False</td>\n",
              "      <td>False</td>\n",
              "      <td>False</td>\n",
              "      <td>False</td>\n",
              "    </tr>\n",
              "    <tr>\n",
              "      <th>6677</th>\n",
              "      <td>False</td>\n",
              "      <td>False</td>\n",
              "      <td>False</td>\n",
              "      <td>False</td>\n",
              "    </tr>\n",
              "    <tr>\n",
              "      <th>6678</th>\n",
              "      <td>False</td>\n",
              "      <td>False</td>\n",
              "      <td>True</td>\n",
              "      <td>False</td>\n",
              "    </tr>\n",
              "    <tr>\n",
              "      <th>6679</th>\n",
              "      <td>False</td>\n",
              "      <td>False</td>\n",
              "      <td>False</td>\n",
              "      <td>False</td>\n",
              "    </tr>\n",
              "    <tr>\n",
              "      <th>6680</th>\n",
              "      <td>False</td>\n",
              "      <td>False</td>\n",
              "      <td>False</td>\n",
              "      <td>False</td>\n",
              "    </tr>\n",
              "  </tbody>\n",
              "</table>\n",
              "<p>6681 rows × 4 columns</p>\n",
              "</div>\n",
              "      <button class=\"colab-df-convert\" onclick=\"convertToInteractive('df-50c2b6d8-ccbc-40d9-a6b2-bed6cbcdae66')\"\n",
              "              title=\"Convert this dataframe to an interactive table.\"\n",
              "              style=\"display:none;\">\n",
              "        \n",
              "  <svg xmlns=\"http://www.w3.org/2000/svg\" height=\"24px\"viewBox=\"0 0 24 24\"\n",
              "       width=\"24px\">\n",
              "    <path d=\"M0 0h24v24H0V0z\" fill=\"none\"/>\n",
              "    <path d=\"M18.56 5.44l.94 2.06.94-2.06 2.06-.94-2.06-.94-.94-2.06-.94 2.06-2.06.94zm-11 1L8.5 8.5l.94-2.06 2.06-.94-2.06-.94L8.5 2.5l-.94 2.06-2.06.94zm10 10l.94 2.06.94-2.06 2.06-.94-2.06-.94-.94-2.06-.94 2.06-2.06.94z\"/><path d=\"M17.41 7.96l-1.37-1.37c-.4-.4-.92-.59-1.43-.59-.52 0-1.04.2-1.43.59L10.3 9.45l-7.72 7.72c-.78.78-.78 2.05 0 2.83L4 21.41c.39.39.9.59 1.41.59.51 0 1.02-.2 1.41-.59l7.78-7.78 2.81-2.81c.8-.78.8-2.07 0-2.86zM5.41 20L4 18.59l7.72-7.72 1.47 1.35L5.41 20z\"/>\n",
              "  </svg>\n",
              "      </button>\n",
              "      \n",
              "  <style>\n",
              "    .colab-df-container {\n",
              "      display:flex;\n",
              "      flex-wrap:wrap;\n",
              "      gap: 12px;\n",
              "    }\n",
              "\n",
              "    .colab-df-convert {\n",
              "      background-color: #E8F0FE;\n",
              "      border: none;\n",
              "      border-radius: 50%;\n",
              "      cursor: pointer;\n",
              "      display: none;\n",
              "      fill: #1967D2;\n",
              "      height: 32px;\n",
              "      padding: 0 0 0 0;\n",
              "      width: 32px;\n",
              "    }\n",
              "\n",
              "    .colab-df-convert:hover {\n",
              "      background-color: #E2EBFA;\n",
              "      box-shadow: 0px 1px 2px rgba(60, 64, 67, 0.3), 0px 1px 3px 1px rgba(60, 64, 67, 0.15);\n",
              "      fill: #174EA6;\n",
              "    }\n",
              "\n",
              "    [theme=dark] .colab-df-convert {\n",
              "      background-color: #3B4455;\n",
              "      fill: #D2E3FC;\n",
              "    }\n",
              "\n",
              "    [theme=dark] .colab-df-convert:hover {\n",
              "      background-color: #434B5C;\n",
              "      box-shadow: 0px 1px 3px 1px rgba(0, 0, 0, 0.15);\n",
              "      filter: drop-shadow(0px 1px 2px rgba(0, 0, 0, 0.3));\n",
              "      fill: #FFFFFF;\n",
              "    }\n",
              "  </style>\n",
              "\n",
              "      <script>\n",
              "        const buttonEl =\n",
              "          document.querySelector('#df-50c2b6d8-ccbc-40d9-a6b2-bed6cbcdae66 button.colab-df-convert');\n",
              "        buttonEl.style.display =\n",
              "          google.colab.kernel.accessAllowed ? 'block' : 'none';\n",
              "\n",
              "        async function convertToInteractive(key) {\n",
              "          const element = document.querySelector('#df-50c2b6d8-ccbc-40d9-a6b2-bed6cbcdae66');\n",
              "          const dataTable =\n",
              "            await google.colab.kernel.invokeFunction('convertToInteractive',\n",
              "                                                     [key], {});\n",
              "          if (!dataTable) return;\n",
              "\n",
              "          const docLinkHtml = 'Like what you see? Visit the ' +\n",
              "            '<a target=\"_blank\" href=https://colab.research.google.com/notebooks/data_table.ipynb>data table notebook</a>'\n",
              "            + ' to learn more about interactive tables.';\n",
              "          element.innerHTML = '';\n",
              "          dataTable['output_type'] = 'display_data';\n",
              "          await google.colab.output.renderOutput(dataTable, element);\n",
              "          const docLink = document.createElement('div');\n",
              "          docLink.innerHTML = docLinkHtml;\n",
              "          element.appendChild(docLink);\n",
              "        }\n",
              "      </script>\n",
              "    </div>\n",
              "  </div>\n",
              "  "
            ]
          },
          "metadata": {},
          "execution_count": 82
        }
      ]
    },
    {
      "cell_type": "code",
      "source": [
        "df.tail()"
      ],
      "metadata": {
        "id": "M2tKAcWXxgc3",
        "outputId": "0b6f7174-1b74-4681-c43b-7eb0c133affd",
        "colab": {
          "base_uri": "https://localhost:8080/",
          "height": 0
        }
      },
      "execution_count": 83,
      "outputs": [
        {
          "output_type": "execute_result",
          "data": {
            "text/plain": [
              "        UNITID                                             INSTNM  \\\n",
              "6676  49576719  Pennsylvania State University-Penn State Wilke...   \n",
              "6677  49576720      Pennsylvania State University-Penn State York   \n",
              "6678  49576721  Pennsylvania State University-Penn State Great...   \n",
              "6679  49576722  Pennsylvania State University-Penn State Harri...   \n",
              "6680  49576723  Pennsylvania State University-Penn State Brand...   \n",
              "\n",
              "      TUITIONFEE_IN  year  \n",
              "6676        13604.0  2020  \n",
              "6677        14486.0  2020  \n",
              "6678            NaN  2020  \n",
              "6679        15216.0  2020  \n",
              "6680        14486.0  2020  "
            ],
            "text/html": [
              "\n",
              "  <div id=\"df-3b0ca077-7e0f-4025-b4b7-d00f903e8ef0\">\n",
              "    <div class=\"colab-df-container\">\n",
              "      <div>\n",
              "<style scoped>\n",
              "    .dataframe tbody tr th:only-of-type {\n",
              "        vertical-align: middle;\n",
              "    }\n",
              "\n",
              "    .dataframe tbody tr th {\n",
              "        vertical-align: top;\n",
              "    }\n",
              "\n",
              "    .dataframe thead th {\n",
              "        text-align: right;\n",
              "    }\n",
              "</style>\n",
              "<table border=\"1\" class=\"dataframe\">\n",
              "  <thead>\n",
              "    <tr style=\"text-align: right;\">\n",
              "      <th></th>\n",
              "      <th>UNITID</th>\n",
              "      <th>INSTNM</th>\n",
              "      <th>TUITIONFEE_IN</th>\n",
              "      <th>year</th>\n",
              "    </tr>\n",
              "  </thead>\n",
              "  <tbody>\n",
              "    <tr>\n",
              "      <th>6676</th>\n",
              "      <td>49576719</td>\n",
              "      <td>Pennsylvania State University-Penn State Wilke...</td>\n",
              "      <td>13604.0</td>\n",
              "      <td>2020</td>\n",
              "    </tr>\n",
              "    <tr>\n",
              "      <th>6677</th>\n",
              "      <td>49576720</td>\n",
              "      <td>Pennsylvania State University-Penn State York</td>\n",
              "      <td>14486.0</td>\n",
              "      <td>2020</td>\n",
              "    </tr>\n",
              "    <tr>\n",
              "      <th>6678</th>\n",
              "      <td>49576721</td>\n",
              "      <td>Pennsylvania State University-Penn State Great...</td>\n",
              "      <td>NaN</td>\n",
              "      <td>2020</td>\n",
              "    </tr>\n",
              "    <tr>\n",
              "      <th>6679</th>\n",
              "      <td>49576722</td>\n",
              "      <td>Pennsylvania State University-Penn State Harri...</td>\n",
              "      <td>15216.0</td>\n",
              "      <td>2020</td>\n",
              "    </tr>\n",
              "    <tr>\n",
              "      <th>6680</th>\n",
              "      <td>49576723</td>\n",
              "      <td>Pennsylvania State University-Penn State Brand...</td>\n",
              "      <td>14486.0</td>\n",
              "      <td>2020</td>\n",
              "    </tr>\n",
              "  </tbody>\n",
              "</table>\n",
              "</div>\n",
              "      <button class=\"colab-df-convert\" onclick=\"convertToInteractive('df-3b0ca077-7e0f-4025-b4b7-d00f903e8ef0')\"\n",
              "              title=\"Convert this dataframe to an interactive table.\"\n",
              "              style=\"display:none;\">\n",
              "        \n",
              "  <svg xmlns=\"http://www.w3.org/2000/svg\" height=\"24px\"viewBox=\"0 0 24 24\"\n",
              "       width=\"24px\">\n",
              "    <path d=\"M0 0h24v24H0V0z\" fill=\"none\"/>\n",
              "    <path d=\"M18.56 5.44l.94 2.06.94-2.06 2.06-.94-2.06-.94-.94-2.06-.94 2.06-2.06.94zm-11 1L8.5 8.5l.94-2.06 2.06-.94-2.06-.94L8.5 2.5l-.94 2.06-2.06.94zm10 10l.94 2.06.94-2.06 2.06-.94-2.06-.94-.94-2.06-.94 2.06-2.06.94z\"/><path d=\"M17.41 7.96l-1.37-1.37c-.4-.4-.92-.59-1.43-.59-.52 0-1.04.2-1.43.59L10.3 9.45l-7.72 7.72c-.78.78-.78 2.05 0 2.83L4 21.41c.39.39.9.59 1.41.59.51 0 1.02-.2 1.41-.59l7.78-7.78 2.81-2.81c.8-.78.8-2.07 0-2.86zM5.41 20L4 18.59l7.72-7.72 1.47 1.35L5.41 20z\"/>\n",
              "  </svg>\n",
              "      </button>\n",
              "      \n",
              "  <style>\n",
              "    .colab-df-container {\n",
              "      display:flex;\n",
              "      flex-wrap:wrap;\n",
              "      gap: 12px;\n",
              "    }\n",
              "\n",
              "    .colab-df-convert {\n",
              "      background-color: #E8F0FE;\n",
              "      border: none;\n",
              "      border-radius: 50%;\n",
              "      cursor: pointer;\n",
              "      display: none;\n",
              "      fill: #1967D2;\n",
              "      height: 32px;\n",
              "      padding: 0 0 0 0;\n",
              "      width: 32px;\n",
              "    }\n",
              "\n",
              "    .colab-df-convert:hover {\n",
              "      background-color: #E2EBFA;\n",
              "      box-shadow: 0px 1px 2px rgba(60, 64, 67, 0.3), 0px 1px 3px 1px rgba(60, 64, 67, 0.15);\n",
              "      fill: #174EA6;\n",
              "    }\n",
              "\n",
              "    [theme=dark] .colab-df-convert {\n",
              "      background-color: #3B4455;\n",
              "      fill: #D2E3FC;\n",
              "    }\n",
              "\n",
              "    [theme=dark] .colab-df-convert:hover {\n",
              "      background-color: #434B5C;\n",
              "      box-shadow: 0px 1px 3px 1px rgba(0, 0, 0, 0.15);\n",
              "      filter: drop-shadow(0px 1px 2px rgba(0, 0, 0, 0.3));\n",
              "      fill: #FFFFFF;\n",
              "    }\n",
              "  </style>\n",
              "\n",
              "      <script>\n",
              "        const buttonEl =\n",
              "          document.querySelector('#df-3b0ca077-7e0f-4025-b4b7-d00f903e8ef0 button.colab-df-convert');\n",
              "        buttonEl.style.display =\n",
              "          google.colab.kernel.accessAllowed ? 'block' : 'none';\n",
              "\n",
              "        async function convertToInteractive(key) {\n",
              "          const element = document.querySelector('#df-3b0ca077-7e0f-4025-b4b7-d00f903e8ef0');\n",
              "          const dataTable =\n",
              "            await google.colab.kernel.invokeFunction('convertToInteractive',\n",
              "                                                     [key], {});\n",
              "          if (!dataTable) return;\n",
              "\n",
              "          const docLinkHtml = 'Like what you see? Visit the ' +\n",
              "            '<a target=\"_blank\" href=https://colab.research.google.com/notebooks/data_table.ipynb>data table notebook</a>'\n",
              "            + ' to learn more about interactive tables.';\n",
              "          element.innerHTML = '';\n",
              "          dataTable['output_type'] = 'display_data';\n",
              "          await google.colab.output.renderOutput(dataTable, element);\n",
              "          const docLink = document.createElement('div');\n",
              "          docLink.innerHTML = docLinkHtml;\n",
              "          element.appendChild(docLink);\n",
              "        }\n",
              "      </script>\n",
              "    </div>\n",
              "  </div>\n",
              "  "
            ]
          },
          "metadata": {},
          "execution_count": 83
        }
      ]
    },
    {
      "cell_type": "code",
      "source": [
        "df.head()"
      ],
      "metadata": {
        "id": "sHh6aEJWxkIF",
        "outputId": "897a0bca-e63c-489b-b05d-ac60c137d99f",
        "colab": {
          "base_uri": "https://localhost:8080/",
          "height": 0
        }
      },
      "execution_count": 84,
      "outputs": [
        {
          "output_type": "execute_result",
          "data": {
            "text/plain": [
              "   UNITID                               INSTNM  TUITIONFEE_IN  year\n",
              "0  100654             Alabama A & M University        10024.0  2020\n",
              "1  100663  University of Alabama at Birmingham         8568.0  2020\n",
              "2  100690                   Amridge University         6950.0  2020\n",
              "3  100706  University of Alabama in Huntsville        11338.0  2020\n",
              "4  100724             Alabama State University        11068.0  2020"
            ],
            "text/html": [
              "\n",
              "  <div id=\"df-e6a297f4-22aa-4ee8-a90e-6bd6e9b0d351\">\n",
              "    <div class=\"colab-df-container\">\n",
              "      <div>\n",
              "<style scoped>\n",
              "    .dataframe tbody tr th:only-of-type {\n",
              "        vertical-align: middle;\n",
              "    }\n",
              "\n",
              "    .dataframe tbody tr th {\n",
              "        vertical-align: top;\n",
              "    }\n",
              "\n",
              "    .dataframe thead th {\n",
              "        text-align: right;\n",
              "    }\n",
              "</style>\n",
              "<table border=\"1\" class=\"dataframe\">\n",
              "  <thead>\n",
              "    <tr style=\"text-align: right;\">\n",
              "      <th></th>\n",
              "      <th>UNITID</th>\n",
              "      <th>INSTNM</th>\n",
              "      <th>TUITIONFEE_IN</th>\n",
              "      <th>year</th>\n",
              "    </tr>\n",
              "  </thead>\n",
              "  <tbody>\n",
              "    <tr>\n",
              "      <th>0</th>\n",
              "      <td>100654</td>\n",
              "      <td>Alabama A &amp; M University</td>\n",
              "      <td>10024.0</td>\n",
              "      <td>2020</td>\n",
              "    </tr>\n",
              "    <tr>\n",
              "      <th>1</th>\n",
              "      <td>100663</td>\n",
              "      <td>University of Alabama at Birmingham</td>\n",
              "      <td>8568.0</td>\n",
              "      <td>2020</td>\n",
              "    </tr>\n",
              "    <tr>\n",
              "      <th>2</th>\n",
              "      <td>100690</td>\n",
              "      <td>Amridge University</td>\n",
              "      <td>6950.0</td>\n",
              "      <td>2020</td>\n",
              "    </tr>\n",
              "    <tr>\n",
              "      <th>3</th>\n",
              "      <td>100706</td>\n",
              "      <td>University of Alabama in Huntsville</td>\n",
              "      <td>11338.0</td>\n",
              "      <td>2020</td>\n",
              "    </tr>\n",
              "    <tr>\n",
              "      <th>4</th>\n",
              "      <td>100724</td>\n",
              "      <td>Alabama State University</td>\n",
              "      <td>11068.0</td>\n",
              "      <td>2020</td>\n",
              "    </tr>\n",
              "  </tbody>\n",
              "</table>\n",
              "</div>\n",
              "      <button class=\"colab-df-convert\" onclick=\"convertToInteractive('df-e6a297f4-22aa-4ee8-a90e-6bd6e9b0d351')\"\n",
              "              title=\"Convert this dataframe to an interactive table.\"\n",
              "              style=\"display:none;\">\n",
              "        \n",
              "  <svg xmlns=\"http://www.w3.org/2000/svg\" height=\"24px\"viewBox=\"0 0 24 24\"\n",
              "       width=\"24px\">\n",
              "    <path d=\"M0 0h24v24H0V0z\" fill=\"none\"/>\n",
              "    <path d=\"M18.56 5.44l.94 2.06.94-2.06 2.06-.94-2.06-.94-.94-2.06-.94 2.06-2.06.94zm-11 1L8.5 8.5l.94-2.06 2.06-.94-2.06-.94L8.5 2.5l-.94 2.06-2.06.94zm10 10l.94 2.06.94-2.06 2.06-.94-2.06-.94-.94-2.06-.94 2.06-2.06.94z\"/><path d=\"M17.41 7.96l-1.37-1.37c-.4-.4-.92-.59-1.43-.59-.52 0-1.04.2-1.43.59L10.3 9.45l-7.72 7.72c-.78.78-.78 2.05 0 2.83L4 21.41c.39.39.9.59 1.41.59.51 0 1.02-.2 1.41-.59l7.78-7.78 2.81-2.81c.8-.78.8-2.07 0-2.86zM5.41 20L4 18.59l7.72-7.72 1.47 1.35L5.41 20z\"/>\n",
              "  </svg>\n",
              "      </button>\n",
              "      \n",
              "  <style>\n",
              "    .colab-df-container {\n",
              "      display:flex;\n",
              "      flex-wrap:wrap;\n",
              "      gap: 12px;\n",
              "    }\n",
              "\n",
              "    .colab-df-convert {\n",
              "      background-color: #E8F0FE;\n",
              "      border: none;\n",
              "      border-radius: 50%;\n",
              "      cursor: pointer;\n",
              "      display: none;\n",
              "      fill: #1967D2;\n",
              "      height: 32px;\n",
              "      padding: 0 0 0 0;\n",
              "      width: 32px;\n",
              "    }\n",
              "\n",
              "    .colab-df-convert:hover {\n",
              "      background-color: #E2EBFA;\n",
              "      box-shadow: 0px 1px 2px rgba(60, 64, 67, 0.3), 0px 1px 3px 1px rgba(60, 64, 67, 0.15);\n",
              "      fill: #174EA6;\n",
              "    }\n",
              "\n",
              "    [theme=dark] .colab-df-convert {\n",
              "      background-color: #3B4455;\n",
              "      fill: #D2E3FC;\n",
              "    }\n",
              "\n",
              "    [theme=dark] .colab-df-convert:hover {\n",
              "      background-color: #434B5C;\n",
              "      box-shadow: 0px 1px 3px 1px rgba(0, 0, 0, 0.15);\n",
              "      filter: drop-shadow(0px 1px 2px rgba(0, 0, 0, 0.3));\n",
              "      fill: #FFFFFF;\n",
              "    }\n",
              "  </style>\n",
              "\n",
              "      <script>\n",
              "        const buttonEl =\n",
              "          document.querySelector('#df-e6a297f4-22aa-4ee8-a90e-6bd6e9b0d351 button.colab-df-convert');\n",
              "        buttonEl.style.display =\n",
              "          google.colab.kernel.accessAllowed ? 'block' : 'none';\n",
              "\n",
              "        async function convertToInteractive(key) {\n",
              "          const element = document.querySelector('#df-e6a297f4-22aa-4ee8-a90e-6bd6e9b0d351');\n",
              "          const dataTable =\n",
              "            await google.colab.kernel.invokeFunction('convertToInteractive',\n",
              "                                                     [key], {});\n",
              "          if (!dataTable) return;\n",
              "\n",
              "          const docLinkHtml = 'Like what you see? Visit the ' +\n",
              "            '<a target=\"_blank\" href=https://colab.research.google.com/notebooks/data_table.ipynb>data table notebook</a>'\n",
              "            + ' to learn more about interactive tables.';\n",
              "          element.innerHTML = '';\n",
              "          dataTable['output_type'] = 'display_data';\n",
              "          await google.colab.output.renderOutput(dataTable, element);\n",
              "          const docLink = document.createElement('div');\n",
              "          docLink.innerHTML = docLinkHtml;\n",
              "          element.appendChild(docLink);\n",
              "        }\n",
              "      </script>\n",
              "    </div>\n",
              "  </div>\n",
              "  "
            ]
          },
          "metadata": {},
          "execution_count": 84
        }
      ]
    },
    {
      "cell_type": "code",
      "source": [
        "df.describe()"
      ],
      "metadata": {
        "id": "XU2-blSBxmFU",
        "outputId": "c92e9cf7-62a6-497c-cfdc-7602f9b2f12a",
        "colab": {
          "base_uri": "https://localhost:8080/",
          "height": 0
        }
      },
      "execution_count": 85,
      "outputs": [
        {
          "output_type": "execute_result",
          "data": {
            "text/plain": [
              "             UNITID  TUITIONFEE_IN\n",
              "count  6.681000e+03    3835.000000\n",
              "mean   2.557806e+06   15988.881095\n",
              "std    8.560860e+06   14107.349202\n",
              "min    1.006540e+05     480.000000\n",
              "25%    1.746040e+05    5491.000000\n",
              "50%    2.307640e+05   11199.000000\n",
              "75%    4.574930e+05   21008.000000\n",
              "max    4.957672e+07   61671.000000"
            ],
            "text/html": [
              "\n",
              "  <div id=\"df-fdb6ca99-2920-4b3f-b444-8e7509d70821\">\n",
              "    <div class=\"colab-df-container\">\n",
              "      <div>\n",
              "<style scoped>\n",
              "    .dataframe tbody tr th:only-of-type {\n",
              "        vertical-align: middle;\n",
              "    }\n",
              "\n",
              "    .dataframe tbody tr th {\n",
              "        vertical-align: top;\n",
              "    }\n",
              "\n",
              "    .dataframe thead th {\n",
              "        text-align: right;\n",
              "    }\n",
              "</style>\n",
              "<table border=\"1\" class=\"dataframe\">\n",
              "  <thead>\n",
              "    <tr style=\"text-align: right;\">\n",
              "      <th></th>\n",
              "      <th>UNITID</th>\n",
              "      <th>TUITIONFEE_IN</th>\n",
              "    </tr>\n",
              "  </thead>\n",
              "  <tbody>\n",
              "    <tr>\n",
              "      <th>count</th>\n",
              "      <td>6.681000e+03</td>\n",
              "      <td>3835.000000</td>\n",
              "    </tr>\n",
              "    <tr>\n",
              "      <th>mean</th>\n",
              "      <td>2.557806e+06</td>\n",
              "      <td>15988.881095</td>\n",
              "    </tr>\n",
              "    <tr>\n",
              "      <th>std</th>\n",
              "      <td>8.560860e+06</td>\n",
              "      <td>14107.349202</td>\n",
              "    </tr>\n",
              "    <tr>\n",
              "      <th>min</th>\n",
              "      <td>1.006540e+05</td>\n",
              "      <td>480.000000</td>\n",
              "    </tr>\n",
              "    <tr>\n",
              "      <th>25%</th>\n",
              "      <td>1.746040e+05</td>\n",
              "      <td>5491.000000</td>\n",
              "    </tr>\n",
              "    <tr>\n",
              "      <th>50%</th>\n",
              "      <td>2.307640e+05</td>\n",
              "      <td>11199.000000</td>\n",
              "    </tr>\n",
              "    <tr>\n",
              "      <th>75%</th>\n",
              "      <td>4.574930e+05</td>\n",
              "      <td>21008.000000</td>\n",
              "    </tr>\n",
              "    <tr>\n",
              "      <th>max</th>\n",
              "      <td>4.957672e+07</td>\n",
              "      <td>61671.000000</td>\n",
              "    </tr>\n",
              "  </tbody>\n",
              "</table>\n",
              "</div>\n",
              "      <button class=\"colab-df-convert\" onclick=\"convertToInteractive('df-fdb6ca99-2920-4b3f-b444-8e7509d70821')\"\n",
              "              title=\"Convert this dataframe to an interactive table.\"\n",
              "              style=\"display:none;\">\n",
              "        \n",
              "  <svg xmlns=\"http://www.w3.org/2000/svg\" height=\"24px\"viewBox=\"0 0 24 24\"\n",
              "       width=\"24px\">\n",
              "    <path d=\"M0 0h24v24H0V0z\" fill=\"none\"/>\n",
              "    <path d=\"M18.56 5.44l.94 2.06.94-2.06 2.06-.94-2.06-.94-.94-2.06-.94 2.06-2.06.94zm-11 1L8.5 8.5l.94-2.06 2.06-.94-2.06-.94L8.5 2.5l-.94 2.06-2.06.94zm10 10l.94 2.06.94-2.06 2.06-.94-2.06-.94-.94-2.06-.94 2.06-2.06.94z\"/><path d=\"M17.41 7.96l-1.37-1.37c-.4-.4-.92-.59-1.43-.59-.52 0-1.04.2-1.43.59L10.3 9.45l-7.72 7.72c-.78.78-.78 2.05 0 2.83L4 21.41c.39.39.9.59 1.41.59.51 0 1.02-.2 1.41-.59l7.78-7.78 2.81-2.81c.8-.78.8-2.07 0-2.86zM5.41 20L4 18.59l7.72-7.72 1.47 1.35L5.41 20z\"/>\n",
              "  </svg>\n",
              "      </button>\n",
              "      \n",
              "  <style>\n",
              "    .colab-df-container {\n",
              "      display:flex;\n",
              "      flex-wrap:wrap;\n",
              "      gap: 12px;\n",
              "    }\n",
              "\n",
              "    .colab-df-convert {\n",
              "      background-color: #E8F0FE;\n",
              "      border: none;\n",
              "      border-radius: 50%;\n",
              "      cursor: pointer;\n",
              "      display: none;\n",
              "      fill: #1967D2;\n",
              "      height: 32px;\n",
              "      padding: 0 0 0 0;\n",
              "      width: 32px;\n",
              "    }\n",
              "\n",
              "    .colab-df-convert:hover {\n",
              "      background-color: #E2EBFA;\n",
              "      box-shadow: 0px 1px 2px rgba(60, 64, 67, 0.3), 0px 1px 3px 1px rgba(60, 64, 67, 0.15);\n",
              "      fill: #174EA6;\n",
              "    }\n",
              "\n",
              "    [theme=dark] .colab-df-convert {\n",
              "      background-color: #3B4455;\n",
              "      fill: #D2E3FC;\n",
              "    }\n",
              "\n",
              "    [theme=dark] .colab-df-convert:hover {\n",
              "      background-color: #434B5C;\n",
              "      box-shadow: 0px 1px 3px 1px rgba(0, 0, 0, 0.15);\n",
              "      filter: drop-shadow(0px 1px 2px rgba(0, 0, 0, 0.3));\n",
              "      fill: #FFFFFF;\n",
              "    }\n",
              "  </style>\n",
              "\n",
              "      <script>\n",
              "        const buttonEl =\n",
              "          document.querySelector('#df-fdb6ca99-2920-4b3f-b444-8e7509d70821 button.colab-df-convert');\n",
              "        buttonEl.style.display =\n",
              "          google.colab.kernel.accessAllowed ? 'block' : 'none';\n",
              "\n",
              "        async function convertToInteractive(key) {\n",
              "          const element = document.querySelector('#df-fdb6ca99-2920-4b3f-b444-8e7509d70821');\n",
              "          const dataTable =\n",
              "            await google.colab.kernel.invokeFunction('convertToInteractive',\n",
              "                                                     [key], {});\n",
              "          if (!dataTable) return;\n",
              "\n",
              "          const docLinkHtml = 'Like what you see? Visit the ' +\n",
              "            '<a target=\"_blank\" href=https://colab.research.google.com/notebooks/data_table.ipynb>data table notebook</a>'\n",
              "            + ' to learn more about interactive tables.';\n",
              "          element.innerHTML = '';\n",
              "          dataTable['output_type'] = 'display_data';\n",
              "          await google.colab.output.renderOutput(dataTable, element);\n",
              "          const docLink = document.createElement('div');\n",
              "          docLink.innerHTML = docLinkHtml;\n",
              "          element.appendChild(docLink);\n",
              "        }\n",
              "      </script>\n",
              "    </div>\n",
              "  </div>\n",
              "  "
            ]
          },
          "metadata": {},
          "execution_count": 85
        }
      ]
    },
    {
      "cell_type": "markdown",
      "source": [
        "## Step 9 - UMBC \n",
        "\n",
        "The dataframe contains many years of data of all U.S. colleges. let's just look at UMBC. Filter/query the dataframe to retrieve only rows that belong to UMBC (one row represent one year). Save the UMNC data to a new data frame. using a new variable for the UMBC data frame, so that the old big data frame is still available for later use."
      ],
      "metadata": {
        "id": "odf117B-ip7D"
      }
    },
    {
      "cell_type": "code",
      "metadata": {
        "id": "NQjKoDmU6zLd",
        "outputId": "2a845492-fa41-4b21-f2cf-637b43e02870",
        "colab": {
          "base_uri": "https://localhost:8080/"
        }
      },
      "source": [
        "#(Write code here)\n",
        "df_1 = df_all[df_all[\"INSTNM\"].str.contains(\"University of Maryland-Baltimore County\")]\n",
        "print(df_1)"
      ],
      "execution_count": 86,
      "outputs": [
        {
          "output_type": "stream",
          "name": "stdout",
          "text": [
            "        UNITID                                   INSTNM  TUITIONFEE_IN  year\n",
            "2151    163268  University of Maryland-Baltimore County            NaN  1996\n",
            "9056    163268  University of Maryland-Baltimore County            NaN  1997\n",
            "15923   163268  University of Maryland-Baltimore County            NaN  1998\n",
            "22598   163268  University of Maryland-Baltimore County            NaN  1999\n",
            "29178   163268  University of Maryland-Baltimore County         5490.0  2000\n",
            "35821   163268  University of Maryland-Baltimore County         5910.0  2001\n",
            "42524   163268  University of Maryland-Baltimore County         6362.0  2002\n",
            "49156   163268  University of Maryland-Baltimore County         7388.0  2003\n",
            "55786   163268  University of Maryland-Baltimore County         8020.0  2004\n",
            "62522   163268  University of Maryland-Baltimore County         8520.0  2005\n",
            "69401   163268  University of Maryland-Baltimore County         8622.0  2006\n",
            "76332   163268  University of Maryland-Baltimore County         8708.0  2007\n",
            "83291   163268  University of Maryland-Baltimore County         8780.0  2008\n",
            "90324   163268  University of Maryland-Baltimore County         8872.0  2009\n",
            "97506   163268  University of Maryland-Baltimore County         9171.0  2010\n",
            "104960  163268  University of Maryland-Baltimore County         9467.0  2011\n",
            "112672  163268  University of Maryland-Baltimore County         9764.0  2012\n",
            "120503  163268  University of Maryland-Baltimore County        10068.0  2013\n",
            "128353  163268  University of Maryland-Baltimore County        10384.0  2014\n",
            "136064  163268  University of Maryland-Baltimore County        11006.0  2015\n",
            "143685  163268  University of Maryland-Baltimore County        11264.0  2016\n",
            "150891  163268  University of Maryland-Baltimore County        11518.0  2017\n",
            "157940  163268  University of Maryland-Baltimore County        11778.0  2018\n",
            "164723  163268  University of Maryland-Baltimore County        12028.0  2019\n",
            "171401  163268  University of Maryland-Baltimore County         9420.0  2020\n"
          ]
        }
      ]
    },
    {
      "cell_type": "markdown",
      "source": [
        "## Step 10 - Explore the new dataframe\n",
        "\n",
        "For example, # of observations, varibles, head, tail, sample, missing values, statistics, etc"
      ],
      "metadata": {
        "id": "JEwabb0PjCmT"
      }
    },
    {
      "cell_type": "code",
      "source": [
        "df.isnull"
      ],
      "metadata": {
        "id": "SFVMwKec9-rh",
        "outputId": "a070c3e2-e457-4d76-a8c8-7764d6d4c604",
        "colab": {
          "base_uri": "https://localhost:8080/"
        }
      },
      "execution_count": 87,
      "outputs": [
        {
          "output_type": "execute_result",
          "data": {
            "text/plain": [
              "<bound method DataFrame.isnull of         UNITID                                             INSTNM  \\\n",
              "0       100654                           Alabama A & M University   \n",
              "1       100663                University of Alabama at Birmingham   \n",
              "2       100690                                 Amridge University   \n",
              "3       100706                University of Alabama in Huntsville   \n",
              "4       100724                           Alabama State University   \n",
              "...        ...                                                ...   \n",
              "6676  49576719  Pennsylvania State University-Penn State Wilke...   \n",
              "6677  49576720      Pennsylvania State University-Penn State York   \n",
              "6678  49576721  Pennsylvania State University-Penn State Great...   \n",
              "6679  49576722  Pennsylvania State University-Penn State Harri...   \n",
              "6680  49576723  Pennsylvania State University-Penn State Brand...   \n",
              "\n",
              "      TUITIONFEE_IN  year  \n",
              "0           10024.0  2020  \n",
              "1            8568.0  2020  \n",
              "2            6950.0  2020  \n",
              "3           11338.0  2020  \n",
              "4           11068.0  2020  \n",
              "...             ...   ...  \n",
              "6676        13604.0  2020  \n",
              "6677        14486.0  2020  \n",
              "6678            NaN  2020  \n",
              "6679        15216.0  2020  \n",
              "6680        14486.0  2020  \n",
              "\n",
              "[6681 rows x 4 columns]>"
            ]
          },
          "metadata": {},
          "execution_count": 87
        }
      ]
    },
    {
      "cell_type": "code",
      "metadata": {
        "id": "d5X87ugp6zLt",
        "outputId": "058d8c2f-db28-4bc9-bc95-257487819724",
        "colab": {
          "base_uri": "https://localhost:8080/",
          "height": 206
        }
      },
      "source": [
        "df_1.head()"
      ],
      "execution_count": 88,
      "outputs": [
        {
          "output_type": "execute_result",
          "data": {
            "text/plain": [
              "       UNITID                                   INSTNM  TUITIONFEE_IN  year\n",
              "2151   163268  University of Maryland-Baltimore County            NaN  1996\n",
              "9056   163268  University of Maryland-Baltimore County            NaN  1997\n",
              "15923  163268  University of Maryland-Baltimore County            NaN  1998\n",
              "22598  163268  University of Maryland-Baltimore County            NaN  1999\n",
              "29178  163268  University of Maryland-Baltimore County         5490.0  2000"
            ],
            "text/html": [
              "\n",
              "  <div id=\"df-25d077ca-a221-46dc-94dc-86b0f80d242b\">\n",
              "    <div class=\"colab-df-container\">\n",
              "      <div>\n",
              "<style scoped>\n",
              "    .dataframe tbody tr th:only-of-type {\n",
              "        vertical-align: middle;\n",
              "    }\n",
              "\n",
              "    .dataframe tbody tr th {\n",
              "        vertical-align: top;\n",
              "    }\n",
              "\n",
              "    .dataframe thead th {\n",
              "        text-align: right;\n",
              "    }\n",
              "</style>\n",
              "<table border=\"1\" class=\"dataframe\">\n",
              "  <thead>\n",
              "    <tr style=\"text-align: right;\">\n",
              "      <th></th>\n",
              "      <th>UNITID</th>\n",
              "      <th>INSTNM</th>\n",
              "      <th>TUITIONFEE_IN</th>\n",
              "      <th>year</th>\n",
              "    </tr>\n",
              "  </thead>\n",
              "  <tbody>\n",
              "    <tr>\n",
              "      <th>2151</th>\n",
              "      <td>163268</td>\n",
              "      <td>University of Maryland-Baltimore County</td>\n",
              "      <td>NaN</td>\n",
              "      <td>1996</td>\n",
              "    </tr>\n",
              "    <tr>\n",
              "      <th>9056</th>\n",
              "      <td>163268</td>\n",
              "      <td>University of Maryland-Baltimore County</td>\n",
              "      <td>NaN</td>\n",
              "      <td>1997</td>\n",
              "    </tr>\n",
              "    <tr>\n",
              "      <th>15923</th>\n",
              "      <td>163268</td>\n",
              "      <td>University of Maryland-Baltimore County</td>\n",
              "      <td>NaN</td>\n",
              "      <td>1998</td>\n",
              "    </tr>\n",
              "    <tr>\n",
              "      <th>22598</th>\n",
              "      <td>163268</td>\n",
              "      <td>University of Maryland-Baltimore County</td>\n",
              "      <td>NaN</td>\n",
              "      <td>1999</td>\n",
              "    </tr>\n",
              "    <tr>\n",
              "      <th>29178</th>\n",
              "      <td>163268</td>\n",
              "      <td>University of Maryland-Baltimore County</td>\n",
              "      <td>5490.0</td>\n",
              "      <td>2000</td>\n",
              "    </tr>\n",
              "  </tbody>\n",
              "</table>\n",
              "</div>\n",
              "      <button class=\"colab-df-convert\" onclick=\"convertToInteractive('df-25d077ca-a221-46dc-94dc-86b0f80d242b')\"\n",
              "              title=\"Convert this dataframe to an interactive table.\"\n",
              "              style=\"display:none;\">\n",
              "        \n",
              "  <svg xmlns=\"http://www.w3.org/2000/svg\" height=\"24px\"viewBox=\"0 0 24 24\"\n",
              "       width=\"24px\">\n",
              "    <path d=\"M0 0h24v24H0V0z\" fill=\"none\"/>\n",
              "    <path d=\"M18.56 5.44l.94 2.06.94-2.06 2.06-.94-2.06-.94-.94-2.06-.94 2.06-2.06.94zm-11 1L8.5 8.5l.94-2.06 2.06-.94-2.06-.94L8.5 2.5l-.94 2.06-2.06.94zm10 10l.94 2.06.94-2.06 2.06-.94-2.06-.94-.94-2.06-.94 2.06-2.06.94z\"/><path d=\"M17.41 7.96l-1.37-1.37c-.4-.4-.92-.59-1.43-.59-.52 0-1.04.2-1.43.59L10.3 9.45l-7.72 7.72c-.78.78-.78 2.05 0 2.83L4 21.41c.39.39.9.59 1.41.59.51 0 1.02-.2 1.41-.59l7.78-7.78 2.81-2.81c.8-.78.8-2.07 0-2.86zM5.41 20L4 18.59l7.72-7.72 1.47 1.35L5.41 20z\"/>\n",
              "  </svg>\n",
              "      </button>\n",
              "      \n",
              "  <style>\n",
              "    .colab-df-container {\n",
              "      display:flex;\n",
              "      flex-wrap:wrap;\n",
              "      gap: 12px;\n",
              "    }\n",
              "\n",
              "    .colab-df-convert {\n",
              "      background-color: #E8F0FE;\n",
              "      border: none;\n",
              "      border-radius: 50%;\n",
              "      cursor: pointer;\n",
              "      display: none;\n",
              "      fill: #1967D2;\n",
              "      height: 32px;\n",
              "      padding: 0 0 0 0;\n",
              "      width: 32px;\n",
              "    }\n",
              "\n",
              "    .colab-df-convert:hover {\n",
              "      background-color: #E2EBFA;\n",
              "      box-shadow: 0px 1px 2px rgba(60, 64, 67, 0.3), 0px 1px 3px 1px rgba(60, 64, 67, 0.15);\n",
              "      fill: #174EA6;\n",
              "    }\n",
              "\n",
              "    [theme=dark] .colab-df-convert {\n",
              "      background-color: #3B4455;\n",
              "      fill: #D2E3FC;\n",
              "    }\n",
              "\n",
              "    [theme=dark] .colab-df-convert:hover {\n",
              "      background-color: #434B5C;\n",
              "      box-shadow: 0px 1px 3px 1px rgba(0, 0, 0, 0.15);\n",
              "      filter: drop-shadow(0px 1px 2px rgba(0, 0, 0, 0.3));\n",
              "      fill: #FFFFFF;\n",
              "    }\n",
              "  </style>\n",
              "\n",
              "      <script>\n",
              "        const buttonEl =\n",
              "          document.querySelector('#df-25d077ca-a221-46dc-94dc-86b0f80d242b button.colab-df-convert');\n",
              "        buttonEl.style.display =\n",
              "          google.colab.kernel.accessAllowed ? 'block' : 'none';\n",
              "\n",
              "        async function convertToInteractive(key) {\n",
              "          const element = document.querySelector('#df-25d077ca-a221-46dc-94dc-86b0f80d242b');\n",
              "          const dataTable =\n",
              "            await google.colab.kernel.invokeFunction('convertToInteractive',\n",
              "                                                     [key], {});\n",
              "          if (!dataTable) return;\n",
              "\n",
              "          const docLinkHtml = 'Like what you see? Visit the ' +\n",
              "            '<a target=\"_blank\" href=https://colab.research.google.com/notebooks/data_table.ipynb>data table notebook</a>'\n",
              "            + ' to learn more about interactive tables.';\n",
              "          element.innerHTML = '';\n",
              "          dataTable['output_type'] = 'display_data';\n",
              "          await google.colab.output.renderOutput(dataTable, element);\n",
              "          const docLink = document.createElement('div');\n",
              "          docLink.innerHTML = docLinkHtml;\n",
              "          element.appendChild(docLink);\n",
              "        }\n",
              "      </script>\n",
              "    </div>\n",
              "  </div>\n",
              "  "
            ]
          },
          "metadata": {},
          "execution_count": 88
        }
      ]
    },
    {
      "cell_type": "code",
      "source": [
        "df_1.tail()"
      ],
      "metadata": {
        "id": "pyGUAc8Q9tJH",
        "outputId": "193fd222-a5bc-42d8-ed8a-4ce4918606a1",
        "colab": {
          "base_uri": "https://localhost:8080/",
          "height": 206
        }
      },
      "execution_count": 89,
      "outputs": [
        {
          "output_type": "execute_result",
          "data": {
            "text/plain": [
              "        UNITID                                   INSTNM  TUITIONFEE_IN  year\n",
              "143685  163268  University of Maryland-Baltimore County        11264.0  2016\n",
              "150891  163268  University of Maryland-Baltimore County        11518.0  2017\n",
              "157940  163268  University of Maryland-Baltimore County        11778.0  2018\n",
              "164723  163268  University of Maryland-Baltimore County        12028.0  2019\n",
              "171401  163268  University of Maryland-Baltimore County         9420.0  2020"
            ],
            "text/html": [
              "\n",
              "  <div id=\"df-f66c2967-8403-4cea-ad76-e5d5a782e5f6\">\n",
              "    <div class=\"colab-df-container\">\n",
              "      <div>\n",
              "<style scoped>\n",
              "    .dataframe tbody tr th:only-of-type {\n",
              "        vertical-align: middle;\n",
              "    }\n",
              "\n",
              "    .dataframe tbody tr th {\n",
              "        vertical-align: top;\n",
              "    }\n",
              "\n",
              "    .dataframe thead th {\n",
              "        text-align: right;\n",
              "    }\n",
              "</style>\n",
              "<table border=\"1\" class=\"dataframe\">\n",
              "  <thead>\n",
              "    <tr style=\"text-align: right;\">\n",
              "      <th></th>\n",
              "      <th>UNITID</th>\n",
              "      <th>INSTNM</th>\n",
              "      <th>TUITIONFEE_IN</th>\n",
              "      <th>year</th>\n",
              "    </tr>\n",
              "  </thead>\n",
              "  <tbody>\n",
              "    <tr>\n",
              "      <th>143685</th>\n",
              "      <td>163268</td>\n",
              "      <td>University of Maryland-Baltimore County</td>\n",
              "      <td>11264.0</td>\n",
              "      <td>2016</td>\n",
              "    </tr>\n",
              "    <tr>\n",
              "      <th>150891</th>\n",
              "      <td>163268</td>\n",
              "      <td>University of Maryland-Baltimore County</td>\n",
              "      <td>11518.0</td>\n",
              "      <td>2017</td>\n",
              "    </tr>\n",
              "    <tr>\n",
              "      <th>157940</th>\n",
              "      <td>163268</td>\n",
              "      <td>University of Maryland-Baltimore County</td>\n",
              "      <td>11778.0</td>\n",
              "      <td>2018</td>\n",
              "    </tr>\n",
              "    <tr>\n",
              "      <th>164723</th>\n",
              "      <td>163268</td>\n",
              "      <td>University of Maryland-Baltimore County</td>\n",
              "      <td>12028.0</td>\n",
              "      <td>2019</td>\n",
              "    </tr>\n",
              "    <tr>\n",
              "      <th>171401</th>\n",
              "      <td>163268</td>\n",
              "      <td>University of Maryland-Baltimore County</td>\n",
              "      <td>9420.0</td>\n",
              "      <td>2020</td>\n",
              "    </tr>\n",
              "  </tbody>\n",
              "</table>\n",
              "</div>\n",
              "      <button class=\"colab-df-convert\" onclick=\"convertToInteractive('df-f66c2967-8403-4cea-ad76-e5d5a782e5f6')\"\n",
              "              title=\"Convert this dataframe to an interactive table.\"\n",
              "              style=\"display:none;\">\n",
              "        \n",
              "  <svg xmlns=\"http://www.w3.org/2000/svg\" height=\"24px\"viewBox=\"0 0 24 24\"\n",
              "       width=\"24px\">\n",
              "    <path d=\"M0 0h24v24H0V0z\" fill=\"none\"/>\n",
              "    <path d=\"M18.56 5.44l.94 2.06.94-2.06 2.06-.94-2.06-.94-.94-2.06-.94 2.06-2.06.94zm-11 1L8.5 8.5l.94-2.06 2.06-.94-2.06-.94L8.5 2.5l-.94 2.06-2.06.94zm10 10l.94 2.06.94-2.06 2.06-.94-2.06-.94-.94-2.06-.94 2.06-2.06.94z\"/><path d=\"M17.41 7.96l-1.37-1.37c-.4-.4-.92-.59-1.43-.59-.52 0-1.04.2-1.43.59L10.3 9.45l-7.72 7.72c-.78.78-.78 2.05 0 2.83L4 21.41c.39.39.9.59 1.41.59.51 0 1.02-.2 1.41-.59l7.78-7.78 2.81-2.81c.8-.78.8-2.07 0-2.86zM5.41 20L4 18.59l7.72-7.72 1.47 1.35L5.41 20z\"/>\n",
              "  </svg>\n",
              "      </button>\n",
              "      \n",
              "  <style>\n",
              "    .colab-df-container {\n",
              "      display:flex;\n",
              "      flex-wrap:wrap;\n",
              "      gap: 12px;\n",
              "    }\n",
              "\n",
              "    .colab-df-convert {\n",
              "      background-color: #E8F0FE;\n",
              "      border: none;\n",
              "      border-radius: 50%;\n",
              "      cursor: pointer;\n",
              "      display: none;\n",
              "      fill: #1967D2;\n",
              "      height: 32px;\n",
              "      padding: 0 0 0 0;\n",
              "      width: 32px;\n",
              "    }\n",
              "\n",
              "    .colab-df-convert:hover {\n",
              "      background-color: #E2EBFA;\n",
              "      box-shadow: 0px 1px 2px rgba(60, 64, 67, 0.3), 0px 1px 3px 1px rgba(60, 64, 67, 0.15);\n",
              "      fill: #174EA6;\n",
              "    }\n",
              "\n",
              "    [theme=dark] .colab-df-convert {\n",
              "      background-color: #3B4455;\n",
              "      fill: #D2E3FC;\n",
              "    }\n",
              "\n",
              "    [theme=dark] .colab-df-convert:hover {\n",
              "      background-color: #434B5C;\n",
              "      box-shadow: 0px 1px 3px 1px rgba(0, 0, 0, 0.15);\n",
              "      filter: drop-shadow(0px 1px 2px rgba(0, 0, 0, 0.3));\n",
              "      fill: #FFFFFF;\n",
              "    }\n",
              "  </style>\n",
              "\n",
              "      <script>\n",
              "        const buttonEl =\n",
              "          document.querySelector('#df-f66c2967-8403-4cea-ad76-e5d5a782e5f6 button.colab-df-convert');\n",
              "        buttonEl.style.display =\n",
              "          google.colab.kernel.accessAllowed ? 'block' : 'none';\n",
              "\n",
              "        async function convertToInteractive(key) {\n",
              "          const element = document.querySelector('#df-f66c2967-8403-4cea-ad76-e5d5a782e5f6');\n",
              "          const dataTable =\n",
              "            await google.colab.kernel.invokeFunction('convertToInteractive',\n",
              "                                                     [key], {});\n",
              "          if (!dataTable) return;\n",
              "\n",
              "          const docLinkHtml = 'Like what you see? Visit the ' +\n",
              "            '<a target=\"_blank\" href=https://colab.research.google.com/notebooks/data_table.ipynb>data table notebook</a>'\n",
              "            + ' to learn more about interactive tables.';\n",
              "          element.innerHTML = '';\n",
              "          dataTable['output_type'] = 'display_data';\n",
              "          await google.colab.output.renderOutput(dataTable, element);\n",
              "          const docLink = document.createElement('div');\n",
              "          docLink.innerHTML = docLinkHtml;\n",
              "          element.appendChild(docLink);\n",
              "        }\n",
              "      </script>\n",
              "    </div>\n",
              "  </div>\n",
              "  "
            ]
          },
          "metadata": {},
          "execution_count": 89
        }
      ]
    },
    {
      "cell_type": "code",
      "source": [
        "df_1.sample(5)"
      ],
      "metadata": {
        "id": "hRCMTvgB9hKb",
        "outputId": "f74cc0c6-082c-4fbc-bf4e-28ec6c93fd7a",
        "colab": {
          "base_uri": "https://localhost:8080/",
          "height": 206
        }
      },
      "execution_count": 90,
      "outputs": [
        {
          "output_type": "execute_result",
          "data": {
            "text/plain": [
              "        UNITID                                   INSTNM  TUITIONFEE_IN  year\n",
              "104960  163268  University of Maryland-Baltimore County         9467.0  2011\n",
              "35821   163268  University of Maryland-Baltimore County         5910.0  2001\n",
              "55786   163268  University of Maryland-Baltimore County         8020.0  2004\n",
              "22598   163268  University of Maryland-Baltimore County            NaN  1999\n",
              "143685  163268  University of Maryland-Baltimore County        11264.0  2016"
            ],
            "text/html": [
              "\n",
              "  <div id=\"df-3dccb1ed-70c2-4375-af26-4523fdd86c70\">\n",
              "    <div class=\"colab-df-container\">\n",
              "      <div>\n",
              "<style scoped>\n",
              "    .dataframe tbody tr th:only-of-type {\n",
              "        vertical-align: middle;\n",
              "    }\n",
              "\n",
              "    .dataframe tbody tr th {\n",
              "        vertical-align: top;\n",
              "    }\n",
              "\n",
              "    .dataframe thead th {\n",
              "        text-align: right;\n",
              "    }\n",
              "</style>\n",
              "<table border=\"1\" class=\"dataframe\">\n",
              "  <thead>\n",
              "    <tr style=\"text-align: right;\">\n",
              "      <th></th>\n",
              "      <th>UNITID</th>\n",
              "      <th>INSTNM</th>\n",
              "      <th>TUITIONFEE_IN</th>\n",
              "      <th>year</th>\n",
              "    </tr>\n",
              "  </thead>\n",
              "  <tbody>\n",
              "    <tr>\n",
              "      <th>104960</th>\n",
              "      <td>163268</td>\n",
              "      <td>University of Maryland-Baltimore County</td>\n",
              "      <td>9467.0</td>\n",
              "      <td>2011</td>\n",
              "    </tr>\n",
              "    <tr>\n",
              "      <th>35821</th>\n",
              "      <td>163268</td>\n",
              "      <td>University of Maryland-Baltimore County</td>\n",
              "      <td>5910.0</td>\n",
              "      <td>2001</td>\n",
              "    </tr>\n",
              "    <tr>\n",
              "      <th>55786</th>\n",
              "      <td>163268</td>\n",
              "      <td>University of Maryland-Baltimore County</td>\n",
              "      <td>8020.0</td>\n",
              "      <td>2004</td>\n",
              "    </tr>\n",
              "    <tr>\n",
              "      <th>22598</th>\n",
              "      <td>163268</td>\n",
              "      <td>University of Maryland-Baltimore County</td>\n",
              "      <td>NaN</td>\n",
              "      <td>1999</td>\n",
              "    </tr>\n",
              "    <tr>\n",
              "      <th>143685</th>\n",
              "      <td>163268</td>\n",
              "      <td>University of Maryland-Baltimore County</td>\n",
              "      <td>11264.0</td>\n",
              "      <td>2016</td>\n",
              "    </tr>\n",
              "  </tbody>\n",
              "</table>\n",
              "</div>\n",
              "      <button class=\"colab-df-convert\" onclick=\"convertToInteractive('df-3dccb1ed-70c2-4375-af26-4523fdd86c70')\"\n",
              "              title=\"Convert this dataframe to an interactive table.\"\n",
              "              style=\"display:none;\">\n",
              "        \n",
              "  <svg xmlns=\"http://www.w3.org/2000/svg\" height=\"24px\"viewBox=\"0 0 24 24\"\n",
              "       width=\"24px\">\n",
              "    <path d=\"M0 0h24v24H0V0z\" fill=\"none\"/>\n",
              "    <path d=\"M18.56 5.44l.94 2.06.94-2.06 2.06-.94-2.06-.94-.94-2.06-.94 2.06-2.06.94zm-11 1L8.5 8.5l.94-2.06 2.06-.94-2.06-.94L8.5 2.5l-.94 2.06-2.06.94zm10 10l.94 2.06.94-2.06 2.06-.94-2.06-.94-.94-2.06-.94 2.06-2.06.94z\"/><path d=\"M17.41 7.96l-1.37-1.37c-.4-.4-.92-.59-1.43-.59-.52 0-1.04.2-1.43.59L10.3 9.45l-7.72 7.72c-.78.78-.78 2.05 0 2.83L4 21.41c.39.39.9.59 1.41.59.51 0 1.02-.2 1.41-.59l7.78-7.78 2.81-2.81c.8-.78.8-2.07 0-2.86zM5.41 20L4 18.59l7.72-7.72 1.47 1.35L5.41 20z\"/>\n",
              "  </svg>\n",
              "      </button>\n",
              "      \n",
              "  <style>\n",
              "    .colab-df-container {\n",
              "      display:flex;\n",
              "      flex-wrap:wrap;\n",
              "      gap: 12px;\n",
              "    }\n",
              "\n",
              "    .colab-df-convert {\n",
              "      background-color: #E8F0FE;\n",
              "      border: none;\n",
              "      border-radius: 50%;\n",
              "      cursor: pointer;\n",
              "      display: none;\n",
              "      fill: #1967D2;\n",
              "      height: 32px;\n",
              "      padding: 0 0 0 0;\n",
              "      width: 32px;\n",
              "    }\n",
              "\n",
              "    .colab-df-convert:hover {\n",
              "      background-color: #E2EBFA;\n",
              "      box-shadow: 0px 1px 2px rgba(60, 64, 67, 0.3), 0px 1px 3px 1px rgba(60, 64, 67, 0.15);\n",
              "      fill: #174EA6;\n",
              "    }\n",
              "\n",
              "    [theme=dark] .colab-df-convert {\n",
              "      background-color: #3B4455;\n",
              "      fill: #D2E3FC;\n",
              "    }\n",
              "\n",
              "    [theme=dark] .colab-df-convert:hover {\n",
              "      background-color: #434B5C;\n",
              "      box-shadow: 0px 1px 3px 1px rgba(0, 0, 0, 0.15);\n",
              "      filter: drop-shadow(0px 1px 2px rgba(0, 0, 0, 0.3));\n",
              "      fill: #FFFFFF;\n",
              "    }\n",
              "  </style>\n",
              "\n",
              "      <script>\n",
              "        const buttonEl =\n",
              "          document.querySelector('#df-3dccb1ed-70c2-4375-af26-4523fdd86c70 button.colab-df-convert');\n",
              "        buttonEl.style.display =\n",
              "          google.colab.kernel.accessAllowed ? 'block' : 'none';\n",
              "\n",
              "        async function convertToInteractive(key) {\n",
              "          const element = document.querySelector('#df-3dccb1ed-70c2-4375-af26-4523fdd86c70');\n",
              "          const dataTable =\n",
              "            await google.colab.kernel.invokeFunction('convertToInteractive',\n",
              "                                                     [key], {});\n",
              "          if (!dataTable) return;\n",
              "\n",
              "          const docLinkHtml = 'Like what you see? Visit the ' +\n",
              "            '<a target=\"_blank\" href=https://colab.research.google.com/notebooks/data_table.ipynb>data table notebook</a>'\n",
              "            + ' to learn more about interactive tables.';\n",
              "          element.innerHTML = '';\n",
              "          dataTable['output_type'] = 'display_data';\n",
              "          await google.colab.output.renderOutput(dataTable, element);\n",
              "          const docLink = document.createElement('div');\n",
              "          docLink.innerHTML = docLinkHtml;\n",
              "          element.appendChild(docLink);\n",
              "        }\n",
              "      </script>\n",
              "    </div>\n",
              "  </div>\n",
              "  "
            ]
          },
          "metadata": {},
          "execution_count": 90
        }
      ]
    },
    {
      "cell_type": "code",
      "source": [
        "df.shape"
      ],
      "metadata": {
        "id": "f-OZ-hvL91BJ",
        "outputId": "89a2266d-9faf-4f3d-e02b-dfc003ad2026",
        "colab": {
          "base_uri": "https://localhost:8080/"
        }
      },
      "execution_count": 91,
      "outputs": [
        {
          "output_type": "execute_result",
          "data": {
            "text/plain": [
              "(6681, 4)"
            ]
          },
          "metadata": {},
          "execution_count": 91
        }
      ]
    },
    {
      "cell_type": "code",
      "source": [
        "df.describe()"
      ],
      "metadata": {
        "id": "7lHGsilT92uK",
        "outputId": "f1b0976e-cad2-418b-ec0b-4e7ce72809cb",
        "colab": {
          "base_uri": "https://localhost:8080/",
          "height": 300
        }
      },
      "execution_count": 92,
      "outputs": [
        {
          "output_type": "execute_result",
          "data": {
            "text/plain": [
              "             UNITID  TUITIONFEE_IN\n",
              "count  6.681000e+03    3835.000000\n",
              "mean   2.557806e+06   15988.881095\n",
              "std    8.560860e+06   14107.349202\n",
              "min    1.006540e+05     480.000000\n",
              "25%    1.746040e+05    5491.000000\n",
              "50%    2.307640e+05   11199.000000\n",
              "75%    4.574930e+05   21008.000000\n",
              "max    4.957672e+07   61671.000000"
            ],
            "text/html": [
              "\n",
              "  <div id=\"df-f88b45a3-f123-487e-b145-bd0b8a89dc32\">\n",
              "    <div class=\"colab-df-container\">\n",
              "      <div>\n",
              "<style scoped>\n",
              "    .dataframe tbody tr th:only-of-type {\n",
              "        vertical-align: middle;\n",
              "    }\n",
              "\n",
              "    .dataframe tbody tr th {\n",
              "        vertical-align: top;\n",
              "    }\n",
              "\n",
              "    .dataframe thead th {\n",
              "        text-align: right;\n",
              "    }\n",
              "</style>\n",
              "<table border=\"1\" class=\"dataframe\">\n",
              "  <thead>\n",
              "    <tr style=\"text-align: right;\">\n",
              "      <th></th>\n",
              "      <th>UNITID</th>\n",
              "      <th>TUITIONFEE_IN</th>\n",
              "    </tr>\n",
              "  </thead>\n",
              "  <tbody>\n",
              "    <tr>\n",
              "      <th>count</th>\n",
              "      <td>6.681000e+03</td>\n",
              "      <td>3835.000000</td>\n",
              "    </tr>\n",
              "    <tr>\n",
              "      <th>mean</th>\n",
              "      <td>2.557806e+06</td>\n",
              "      <td>15988.881095</td>\n",
              "    </tr>\n",
              "    <tr>\n",
              "      <th>std</th>\n",
              "      <td>8.560860e+06</td>\n",
              "      <td>14107.349202</td>\n",
              "    </tr>\n",
              "    <tr>\n",
              "      <th>min</th>\n",
              "      <td>1.006540e+05</td>\n",
              "      <td>480.000000</td>\n",
              "    </tr>\n",
              "    <tr>\n",
              "      <th>25%</th>\n",
              "      <td>1.746040e+05</td>\n",
              "      <td>5491.000000</td>\n",
              "    </tr>\n",
              "    <tr>\n",
              "      <th>50%</th>\n",
              "      <td>2.307640e+05</td>\n",
              "      <td>11199.000000</td>\n",
              "    </tr>\n",
              "    <tr>\n",
              "      <th>75%</th>\n",
              "      <td>4.574930e+05</td>\n",
              "      <td>21008.000000</td>\n",
              "    </tr>\n",
              "    <tr>\n",
              "      <th>max</th>\n",
              "      <td>4.957672e+07</td>\n",
              "      <td>61671.000000</td>\n",
              "    </tr>\n",
              "  </tbody>\n",
              "</table>\n",
              "</div>\n",
              "      <button class=\"colab-df-convert\" onclick=\"convertToInteractive('df-f88b45a3-f123-487e-b145-bd0b8a89dc32')\"\n",
              "              title=\"Convert this dataframe to an interactive table.\"\n",
              "              style=\"display:none;\">\n",
              "        \n",
              "  <svg xmlns=\"http://www.w3.org/2000/svg\" height=\"24px\"viewBox=\"0 0 24 24\"\n",
              "       width=\"24px\">\n",
              "    <path d=\"M0 0h24v24H0V0z\" fill=\"none\"/>\n",
              "    <path d=\"M18.56 5.44l.94 2.06.94-2.06 2.06-.94-2.06-.94-.94-2.06-.94 2.06-2.06.94zm-11 1L8.5 8.5l.94-2.06 2.06-.94-2.06-.94L8.5 2.5l-.94 2.06-2.06.94zm10 10l.94 2.06.94-2.06 2.06-.94-2.06-.94-.94-2.06-.94 2.06-2.06.94z\"/><path d=\"M17.41 7.96l-1.37-1.37c-.4-.4-.92-.59-1.43-.59-.52 0-1.04.2-1.43.59L10.3 9.45l-7.72 7.72c-.78.78-.78 2.05 0 2.83L4 21.41c.39.39.9.59 1.41.59.51 0 1.02-.2 1.41-.59l7.78-7.78 2.81-2.81c.8-.78.8-2.07 0-2.86zM5.41 20L4 18.59l7.72-7.72 1.47 1.35L5.41 20z\"/>\n",
              "  </svg>\n",
              "      </button>\n",
              "      \n",
              "  <style>\n",
              "    .colab-df-container {\n",
              "      display:flex;\n",
              "      flex-wrap:wrap;\n",
              "      gap: 12px;\n",
              "    }\n",
              "\n",
              "    .colab-df-convert {\n",
              "      background-color: #E8F0FE;\n",
              "      border: none;\n",
              "      border-radius: 50%;\n",
              "      cursor: pointer;\n",
              "      display: none;\n",
              "      fill: #1967D2;\n",
              "      height: 32px;\n",
              "      padding: 0 0 0 0;\n",
              "      width: 32px;\n",
              "    }\n",
              "\n",
              "    .colab-df-convert:hover {\n",
              "      background-color: #E2EBFA;\n",
              "      box-shadow: 0px 1px 2px rgba(60, 64, 67, 0.3), 0px 1px 3px 1px rgba(60, 64, 67, 0.15);\n",
              "      fill: #174EA6;\n",
              "    }\n",
              "\n",
              "    [theme=dark] .colab-df-convert {\n",
              "      background-color: #3B4455;\n",
              "      fill: #D2E3FC;\n",
              "    }\n",
              "\n",
              "    [theme=dark] .colab-df-convert:hover {\n",
              "      background-color: #434B5C;\n",
              "      box-shadow: 0px 1px 3px 1px rgba(0, 0, 0, 0.15);\n",
              "      filter: drop-shadow(0px 1px 2px rgba(0, 0, 0, 0.3));\n",
              "      fill: #FFFFFF;\n",
              "    }\n",
              "  </style>\n",
              "\n",
              "      <script>\n",
              "        const buttonEl =\n",
              "          document.querySelector('#df-f88b45a3-f123-487e-b145-bd0b8a89dc32 button.colab-df-convert');\n",
              "        buttonEl.style.display =\n",
              "          google.colab.kernel.accessAllowed ? 'block' : 'none';\n",
              "\n",
              "        async function convertToInteractive(key) {\n",
              "          const element = document.querySelector('#df-f88b45a3-f123-487e-b145-bd0b8a89dc32');\n",
              "          const dataTable =\n",
              "            await google.colab.kernel.invokeFunction('convertToInteractive',\n",
              "                                                     [key], {});\n",
              "          if (!dataTable) return;\n",
              "\n",
              "          const docLinkHtml = 'Like what you see? Visit the ' +\n",
              "            '<a target=\"_blank\" href=https://colab.research.google.com/notebooks/data_table.ipynb>data table notebook</a>'\n",
              "            + ' to learn more about interactive tables.';\n",
              "          element.innerHTML = '';\n",
              "          dataTable['output_type'] = 'display_data';\n",
              "          await google.colab.output.renderOutput(dataTable, element);\n",
              "          const docLink = document.createElement('div');\n",
              "          docLink.innerHTML = docLinkHtml;\n",
              "          element.appendChild(docLink);\n",
              "        }\n",
              "      </script>\n",
              "    </div>\n",
              "  </div>\n",
              "  "
            ]
          },
          "metadata": {},
          "execution_count": 92
        }
      ]
    },
    {
      "cell_type": "markdown",
      "source": [
        "## Step 11 - Plot UMBC's in-state tution overtime Bar Chart"
      ],
      "metadata": {
        "id": "yhkk1v-KjNu-"
      }
    },
    {
      "cell_type": "code",
      "source": [
        "import matplotlib.pyplot as plt"
      ],
      "metadata": {
        "id": "yE2JuIP-1VBC"
      },
      "execution_count": 93,
      "outputs": []
    },
    {
      "cell_type": "code",
      "metadata": {
        "id": "5Poy4ciz6zLy",
        "colab": {
          "base_uri": "https://localhost:8080/",
          "height": 421
        },
        "outputId": "3fe9fb09-5202-4bda-e9cf-4cb48d7995fb"
      },
      "source": [
        "#(Write code here)\n",
        "df_1.plot(kind='bar', x='year', y='TUITIONFEE_IN', figsize=(6,6))"
      ],
      "execution_count": 94,
      "outputs": [
        {
          "output_type": "execute_result",
          "data": {
            "text/plain": [
              "<matplotlib.axes._subplots.AxesSubplot at 0x7f3902b1cd10>"
            ]
          },
          "metadata": {},
          "execution_count": 94
        },
        {
          "output_type": "display_data",
          "data": {
            "text/plain": [
              "<Figure size 432x432 with 1 Axes>"
            ],
            "image/png": "[encoded data removed]"
          },
          "metadata": {
            "needs_background": "light"
          }
        }
      ]
    },
    {
      "cell_type": "markdown",
      "source": [
        "## Step 12 - Plot UMBC's in-state tution overtime using line Chart"
      ],
      "metadata": {
        "id": "85qFArw4jXnP"
      }
    },
    {
      "cell_type": "code",
      "metadata": {
        "id": "afOQjc1w6zL4"
      },
      "source": [
        "#(Write code here)\n"
      ],
      "execution_count": 95,
      "outputs": []
    },
    {
      "cell_type": "code",
      "metadata": {
        "outputId": "c58d8641-0761-43e9-b6a9-6c8251461656",
        "colab": {
          "base_uri": "https://localhost:8080/",
          "height": 405
        },
        "id": "0Mwg0XvkAy8T"
      },
      "source": [
        "#(Write code here)\n",
        "df_1.plot(kind='line', x='year', y='TUITIONFEE_IN', figsize=(6,6))"
      ],
      "execution_count": 96,
      "outputs": [
        {
          "output_type": "execute_result",
          "data": {
            "text/plain": [
              "<matplotlib.axes._subplots.AxesSubplot at 0x7f38ff1fa910>"
            ]
          },
          "metadata": {},
          "execution_count": 96
        },
        {
          "output_type": "display_data",
          "data": {
            "text/plain": [
              "<Figure size 432x432 with 1 Axes>"
            ],
            "image/png": "[encoded data removed]"
          },
          "metadata": {
            "needs_background": "light"
          }
        }
      ]
    },
    {
      "cell_type": "markdown",
      "source": [
        "## Step 13 - Tuition Growth Rate\n",
        "\n",
        "Now let's look at the tuition growth rate year over year. We need to calculate UMBC tuition change percentage each year. First convert the TUITIONFEE_IN column to a Python List"
      ],
      "metadata": {
        "id": "5FH2h2_ajlKE"
      }
    },
    {
      "cell_type": "code",
      "metadata": {
        "id": "xQLB2f7J6zL-",
        "colab": {
          "base_uri": "https://localhost:8080/"
        },
        "outputId": "6d8e1b00-1ad2-4872-a737-109570e2a655"
      },
      "source": [
        "#(Write code here)\n",
        "list_of_Tutionfee_In = df_1['TUITIONFEE_IN'].to_list()\n",
        "print(list_of_Tutionfee_In)"
      ],
      "execution_count": 97,
      "outputs": [
        {
          "output_type": "stream",
          "name": "stdout",
          "text": [
            "[nan, nan, nan, nan, 5490.0, 5910.0, 6362.0, 7388.0, 8020.0, 8520.0, 8622.0, 8708.0, 8780.0, 8872.0, 9171.0, 9467.0, 9764.0, 10068.0, 10384.0, 11006.0, 11264.0, 11518.0, 11778.0, 12028.0, 9420.0]\n"
          ]
        }
      ]
    },
    {
      "cell_type": "markdown",
      "source": [
        "## Step 14 - Loop through the list and calculate the % change each year over the prior year\n",
        "\n",
        "This takes some effort. Not hard, just some abstract/logical thinking and some experiments. Have fun on this one."
      ],
      "metadata": {
        "id": "e4OhAzjlj3tw"
      }
    },
    {
      "cell_type": "code",
      "metadata": {
        "id": "LRUyQCtJ6zMB",
        "colab": {
          "base_uri": "https://localhost:8080/"
        },
        "outputId": "737c56db-9082-4f96-e783-bc8c8b1f4e22"
      },
      "source": [
        " #(Write code here)\n",
        "l = [\"nan\", \"nan\", \"nan\", \"nan\", 5490.0, 5910.0, 6362.0, 7388.0, 8020.0, 8520.0, 8622.0, 8708.0, 8780.0, 8872.0, 9171.0, 9467.0, 9764.0, 10068.0, 10384.0, 11006.0, 11264.0, 11518.0, 11778.0, 12028.0, 9420.0]\n",
        "\n",
        "for i in range(0, len(l)):\n",
        "  if(l[i]==\"nan\"):\n",
        "    l[i]=float(\"nan\")\n",
        "\n",
        "pct_change=[float(\"nan\")]\n",
        "for i in range(1,len(l)):\n",
        "  if(l[i]!=float(\"nan\") and l[i-1]!=float(\"nan\")):\n",
        "    t = (l[i]-l[i-1])/l[i-1]*100.0\n",
        "    pct_change.append(t)\n",
        "\n",
        "print(pct_change)"
      ],
      "execution_count": 98,
      "outputs": [
        {
          "output_type": "stream",
          "name": "stdout",
          "text": [
            "[nan, nan, nan, nan, nan, 7.650273224043716, 7.648054145516074, 16.12700408676517, 8.554412560909583, 6.234413965087282, 1.1971830985915493, 0.9974483878450475, 0.8268259072117593, 1.0478359908883828, 3.370153291253381, 3.227565151019518, 3.1372134783986483, 3.11347808275297, 3.1386571315057608, 5.989984591679507, 2.344175904052335, 2.254971590909091, 2.2573363431151243, 2.122601460349805, -21.68274027269704]\n"
          ]
        }
      ]
    },
    {
      "cell_type": "markdown",
      "source": [
        "## Step 15 - Round up the percentage to two decimal points\n",
        "\n",
        "The resulting number has many decimal points which are unnecessary and not visually appealing. You can use for loop. Or better, use list comprehension for simplicity/brevity."
      ],
      "metadata": {
        "id": "vLogjxM1kSDH"
      }
    },
    {
      "cell_type": "code",
      "metadata": {
        "id": "9sxMk1hc6zML"
      },
      "source": [
        "#(Write code here)\n",
        "\n",
        "pct_change = [round(x, 2) for x in pct_change]"
      ],
      "execution_count": 99,
      "outputs": []
    },
    {
      "cell_type": "markdown",
      "source": [
        "## Step 16 - Add the list of the percentages to the dataframe as a new column (\"PCT_CHANGE\")\n",
        "\n",
        "Not as hard as you may think. If you get stuck, you think too hard. Google it and you will find the answer."
      ],
      "metadata": {
        "id": "cWK8vDitkLpx"
      }
    },
    {
      "cell_type": "code",
      "metadata": {
        "id": "_04rVaZ16zMR",
        "outputId": "729b4605-cdfd-4e4e-b989-b809ecf086e1",
        "colab": {
          "base_uri": "https://localhost:8080/"
        }
      },
      "source": [
        "#(Write code here)\n",
        "df_1[\"PCT_CHANGE\"] = pct_change"
      ],
      "execution_count": 100,
      "outputs": [
        {
          "output_type": "stream",
          "name": "stderr",
          "text": [
            "/usr/local/lib/python3.7/dist-packages/ipykernel_launcher.py:2: SettingWithCopyWarning: \n",
            "A value is trying to be set on a copy of a slice from a DataFrame.\n",
            "Try using .loc[row_indexer,col_indexer] = value instead\n",
            "\n",
            "See the caveats in the documentation: https://pandas.pydata.org/pandas-docs/stable/user_guide/indexing.html#returning-a-view-versus-a-copy\n",
            "  \n"
          ]
        }
      ]
    },
    {
      "cell_type": "markdown",
      "source": [
        "## Step 17 - Finaly, we can make the plot tuition growth rate year over year - bar first, then line chart"
      ],
      "metadata": {
        "id": "aVcm3NltknpE"
      }
    },
    {
      "cell_type": "code",
      "source": [],
      "metadata": {
        "id": "BTwfY0kJYCeO"
      },
      "execution_count": 100,
      "outputs": []
    },
    {
      "cell_type": "code",
      "metadata": {
        "colab": {
          "base_uri": "https://localhost:8080/",
          "height": 421
        },
        "outputId": "e7896537-e574-4800-ed14-01714f7a9aa7",
        "id": "NLB53c-LYC6a"
      },
      "source": [
        "#(Write code here)\n",
        "# Bar chart\n",
        "df_1.plot(kind='bar', x='year', y='PCT_CHANGE', figsize=(6,6))"
      ],
      "execution_count": 101,
      "outputs": [
        {
          "output_type": "execute_result",
          "data": {
            "text/plain": [
              "<matplotlib.axes._subplots.AxesSubplot at 0x7f38ff2034d0>"
            ]
          },
          "metadata": {},
          "execution_count": 101
        },
        {
          "output_type": "display_data",
          "data": {
            "text/plain": [
              "<Figure size 432x432 with 1 Axes>"
            ],
            "image/png": "[encoded data removed]"
          },
          "metadata": {
            "needs_background": "light"
          }
        }
      ]
    },
    {
      "cell_type": "code",
      "source": [
        "# Line chart\n"
      ],
      "metadata": {
        "id": "ZA8kbEznYjWD"
      },
      "execution_count": 102,
      "outputs": []
    },
    {
      "cell_type": "code",
      "metadata": {
        "colab": {
          "base_uri": "https://localhost:8080/",
          "height": 405
        },
        "outputId": "7b900dbe-ee09-4477-9b42-3d937c06a12d",
        "id": "6lx2PpWbYsfn"
      },
      "source": [
        "#(Write code here)\n",
        "# Bar chart\n",
        "df_1.plot(kind='line', x='year', y='PCT_CHANGE', figsize=(6,6))"
      ],
      "execution_count": 103,
      "outputs": [
        {
          "output_type": "execute_result",
          "data": {
            "text/plain": [
              "<matplotlib.axes._subplots.AxesSubplot at 0x7f38ff0551d0>"
            ]
          },
          "metadata": {},
          "execution_count": 103
        },
        {
          "output_type": "display_data",
          "data": {
            "text/plain": [
              "<Figure size 432x432 with 1 Axes>"
            ],
            "image/png": "[encoded data removed]"
          },
          "metadata": {
            "needs_background": "light"
          }
        }
      ]
    },
    {
      "cell_type": "markdown",
      "source": [
        "## Step 18 - Define Growth Rate Function\n",
        "\n",
        "Since we want to do the same calculation for JHU. Instead of doing it piecemeal as we did for UMBC. Let's create a function which can be reused for any college. This function takes a list of tuitions and return a list of percentage changes year over year. This function can be used later."
      ],
      "metadata": {
        "id": "V1TiCardmjU2"
      }
    },
    {
      "cell_type": "code",
      "metadata": {
        "id": "eCqEe_646zMc"
      },
      "source": [
        "#(Write code here)\n"
      ],
      "execution_count": 104,
      "outputs": []
    },
    {
      "cell_type": "markdown",
      "source": [
        "## Step 19 - Get JHU Data\n",
        "\n",
        "The dataframe contains many years of data of all U.S. colleges. Let's just look at JHU. Filter/query the dataframe to retrieve only rows that belong to JHU. Save the JHU data to a new data frame using a new variable so that the old big data frame is still available for later use."
      ],
      "metadata": {
        "id": "U2jqd5GYmy3Z"
      }
    },
    {
      "cell_type": "code",
      "metadata": {
        "id": "f2mhYOjV6zMj",
        "outputId": "18e6f0e9-e967-41fc-9f12-75c16d663ec4",
        "colab": {
          "base_uri": "https://localhost:8080/"
        }
      },
      "source": [
        "#(Write code here)\n",
        "df_2 = df_all[df_all[\"INSTNM\"].str.contains(\"Johns Hopkins University\")]\n",
        "print(df_2)"
      ],
      "execution_count": 105,
      "outputs": [
        {
          "output_type": "stream",
          "name": "stdout",
          "text": [
            "        UNITID                    INSTNM  TUITIONFEE_IN  year\n",
            "2139    162928  Johns Hopkins University            NaN  1996\n",
            "9046    162928  Johns Hopkins University            NaN  1997\n",
            "15914   162928  Johns Hopkins University            NaN  1998\n",
            "22589   162928  Johns Hopkins University            NaN  1999\n",
            "29169   162928  Johns Hopkins University        24930.0  2000\n",
            "35812   162928  Johns Hopkins University        26210.0  2001\n",
            "42515   162928  Johns Hopkins University        27390.0  2002\n",
            "49148   162928  Johns Hopkins University        28730.0  2003\n",
            "55779   162928  Johns Hopkins University        30140.0  2004\n",
            "62515   162928  Johns Hopkins University        31620.0  2005\n",
            "69394   162928  Johns Hopkins University        33900.0  2006\n",
            "76325   162928  Johns Hopkins University        35900.0  2007\n",
            "83284   162928  Johns Hopkins University        37700.0  2008\n",
            "90317   162928  Johns Hopkins University        39150.0  2009\n",
            "97499   162928  Johns Hopkins University        40680.0  2010\n",
            "104953  162928  Johns Hopkins University        42280.0  2011\n",
            "112665  162928  Johns Hopkins University        43390.0  2012\n",
            "120496  162928  Johns Hopkins University        45470.0  2013\n",
            "128346  162928  Johns Hopkins University        47060.0  2014\n",
            "136057  162928  Johns Hopkins University        48710.0  2015\n",
            "143678  162928  Johns Hopkins University        50410.0  2016\n",
            "150886  162928  Johns Hopkins University        52170.0  2017\n",
            "157935  162928  Johns Hopkins University        53740.0  2018\n",
            "164718  162928  Johns Hopkins University        55350.0  2019\n",
            "171396  162928  Johns Hopkins University        54160.0  2020\n"
          ]
        }
      ]
    },
    {
      "cell_type": "markdown",
      "source": [
        "## Step 20 - Plot JHU's in-state tuition overtime\n",
        "\n",
        "Let's plot bar and then line chart."
      ],
      "metadata": {
        "id": "VkyEUa6mnKgD"
      }
    },
    {
      "cell_type": "code",
      "metadata": {
        "id": "wGXcNTJ46zMo",
        "outputId": "99fc1509-cffe-4497-eef4-5968d2717781",
        "colab": {
          "base_uri": "https://localhost:8080/",
          "height": 421
        }
      },
      "source": [
        "# <14> \n",
        "# Plot JHU's in-state tuition overtime from 1996 to 2019. \n",
        "# Let's plot bar and line chart together\n",
        "\n",
        "#(Write code here)\n",
        "\n",
        "df_2.plot(kind='bar', x='year', y='TUITIONFEE_IN', figsize=(6,6))"
      ],
      "execution_count": 106,
      "outputs": [
        {
          "output_type": "execute_result",
          "data": {
            "text/plain": [
              "<matplotlib.axes._subplots.AxesSubplot at 0x7f38fefec610>"
            ]
          },
          "metadata": {},
          "execution_count": 106
        },
        {
          "output_type": "display_data",
          "data": {
            "text/plain": [
              "<Figure size 432x432 with 1 Axes>"
            ],
            "image/png": "[encoded data removed]"
          },
          "metadata": {
            "needs_background": "light"
          }
        }
      ]
    },
    {
      "cell_type": "code",
      "source": [
        "df_2.plot(kind='line', x='year', y='TUITIONFEE_IN', figsize=(6,6))"
      ],
      "metadata": {
        "id": "oNn1A38SaJBX",
        "outputId": "adcfd3c4-32c9-44b0-857c-780ad2b966de",
        "colab": {
          "base_uri": "https://localhost:8080/",
          "height": 405
        }
      },
      "execution_count": 107,
      "outputs": [
        {
          "output_type": "execute_result",
          "data": {
            "text/plain": [
              "<matplotlib.axes._subplots.AxesSubplot at 0x7f38fef47890>"
            ]
          },
          "metadata": {},
          "execution_count": 107
        },
        {
          "output_type": "display_data",
          "data": {
            "text/plain": [
              "<Figure size 432x432 with 1 Axes>"
            ],
            "image/png": "[encoded data removed]"
          },
          "metadata": {
            "needs_background": "light"
          }
        }
      ]
    },
    {
      "cell_type": "markdown",
      "source": [
        "## Step 21 - Calculate Tuition Growth Rate using the Function defined earlier\n"
      ],
      "metadata": {
        "id": "wNn0AXexnsxq"
      }
    },
    {
      "cell_type": "code",
      "metadata": {
        "colab": {
          "base_uri": "https://localhost:8080/"
        },
        "outputId": "a472f886-1c60-4b70-eb80-0098d752c733",
        "id": "MIcM_s1NbrDD"
      },
      "source": [
        "#(Write code here)\n",
        "list_of_Tutionfee_In_JHU = df_2['TUITIONFEE_IN'].to_list()\n",
        "print(list_of_Tutionfee_In_JHU)"
      ],
      "execution_count": 108,
      "outputs": [
        {
          "output_type": "stream",
          "name": "stdout",
          "text": [
            "[nan, nan, nan, nan, 24930.0, 26210.0, 27390.0, 28730.0, 30140.0, 31620.0, 33900.0, 35900.0, 37700.0, 39150.0, 40680.0, 42280.0, 43390.0, 45470.0, 47060.0, 48710.0, 50410.0, 52170.0, 53740.0, 55350.0, 54160.0]\n"
          ]
        }
      ]
    },
    {
      "cell_type": "code",
      "source": [
        "J = [\"nan\", \"nan\", \"nan\", \"nan\", 24930.0, 26210.0, 27390.0, 28730.0, 30140.0, 31620.0, 33900.0, 35900.0, 37700.0, 39150.0, 40680.0, 42280.0, 43390.0, 45470.0, 47060.0, 48710.0, 50410.0, 52170.0, 53740.0, 55350.0, 54160.0]\n",
        "\n",
        "for i in range(0, len(J)):\n",
        "  if(J[i]==\"nan\"):\n",
        "    J[i]=float(\"nan\")\n",
        "\n",
        "pct_change_JHU=[float(\"nan\")]\n",
        "for i in range(1,len(J)):\n",
        "  if(J[i]!=float(\"nan\") and J[i-1]!=float(\"nan\")):\n",
        "    t = (J[i]-l[i-1])/J[i-1]*100.0\n",
        "    pct_change_JHU.append(t)\n",
        "\n",
        "print(pct_change_JHU)"
      ],
      "metadata": {
        "id": "Q-35YLw0b5vS",
        "outputId": "e7408674-624c-4f08-e720-c60a26a31e0d",
        "colab": {
          "base_uri": "https://localhost:8080/"
        }
      },
      "execution_count": 121,
      "outputs": [
        {
          "output_type": "stream",
          "name": "stdout",
          "text": [
            "[nan, nan, nan, nan, nan, 83.11271560369033, 81.95345288057993, 81.66484118291348, 79.19248172641838, 78.30126078301261, 80.26565464895636, 80.46607669616519, 80.75766016713092, 80.55702917771883, 81.24648786717752, 81.38888888888889, 80.23415326395458, 82.29085042636552, 81.35473938860788, 81.44071398215044, 80.89509340997742, 81.14659789724261, 80.93156986774008, 81.07927056196502, 76.11924119241192]\n"
          ]
        }
      ]
    },
    {
      "cell_type": "code",
      "source": [
        "pct_change_JHU = [round(x, 2) for x in pct_change_JHU]"
      ],
      "metadata": {
        "id": "8yM8DsR1eXzP"
      },
      "execution_count": 129,
      "outputs": []
    },
    {
      "cell_type": "markdown",
      "source": [
        "## Step 22 - Add the list of percentage changes to the dataframe as a new column (\"PCT_CHANGE\")"
      ],
      "metadata": {
        "id": "HSPcfvsGn8MG"
      }
    },
    {
      "cell_type": "code",
      "metadata": {
        "id": "7KM74FQH6zM4"
      },
      "source": [
        "#(Write code here)\n",
        "df_2[\"PCT_CHANGE\"] = pct_change_JHU"
      ],
      "execution_count": 130,
      "outputs": []
    },
    {
      "cell_type": "markdown",
      "source": [
        "## Step 23 - Plot the JHU percentage changes tuitions over time\n",
        "\n",
        "Bar plot first, then line plot."
      ],
      "metadata": {
        "id": "LPei7NtpoFFb"
      }
    },
    {
      "cell_type": "code",
      "metadata": {
        "id": "vGi8YI_A6zM7",
        "outputId": "9ccef952-3530-4fa6-8fda-decf42d78c45",
        "colab": {
          "base_uri": "https://localhost:8080/",
          "height": 421
        }
      },
      "source": [
        "#(Write code here)\n",
        "df_2.plot(kind='bar', x='year', y='PCT_CHANGE', figsize=(6,6))"
      ],
      "execution_count": 132,
      "outputs": [
        {
          "output_type": "execute_result",
          "data": {
            "text/plain": [
              "<matplotlib.axes._subplots.AxesSubplot at 0x7f38ffdd0e10>"
            ]
          },
          "metadata": {},
          "execution_count": 132
        },
        {
          "output_type": "display_data",
          "data": {
            "text/plain": [
              "<Figure size 432x432 with 1 Axes>"
            ],
            "image/png": "[encoded data removed]"
          },
          "metadata": {
            "needs_background": "light"
          }
        }
      ]
    },
    {
      "cell_type": "code",
      "source": [
        "df_2.plot(kind='line', x='year', y='PCT_CHANGE', figsize=(6,6))"
      ],
      "metadata": {
        "id": "FhFvr_eTfc2h",
        "outputId": "020b81aa-744a-4584-956c-e62ae6447e9b",
        "colab": {
          "base_uri": "https://localhost:8080/",
          "height": 405
        }
      },
      "execution_count": 133,
      "outputs": [
        {
          "output_type": "execute_result",
          "data": {
            "text/plain": [
              "<matplotlib.axes._subplots.AxesSubplot at 0x7f3901e94250>"
            ]
          },
          "metadata": {},
          "execution_count": 133
        },
        {
          "output_type": "display_data",
          "data": {
            "text/plain": [
              "<Figure size 432x432 with 1 Axes>"
            ],
            "image/png": "[encoded data removed]"
          },
          "metadata": {
            "needs_background": "light"
          }
        }
      ]
    },
    {
      "cell_type": "markdown",
      "source": [
        "## Step 24 - Compare UMBC and JHU \n",
        "\n",
        "In order to plot both UMBC and JHU tuition change over time in the same plot, we need to combine the two datasets using the common key of YEAR. \n",
        "\n",
        "First make a umbc2 dataframe with only two columns needed. We don't need other columns. Also change the column name from \"PCT_CHANGE\" to \"UMBC_PCT\" in preparation for the merge. This is because both umbc and jhu dataframe have the same column name \"PCT_CHANGE\", we rename them to there is no collision during the merge. BTW, Pandas handles collision gracefully, Feel free to try it without changing the column names."
      ],
      "metadata": {
        "id": "CBHqIJBcoXv-"
      }
    },
    {
      "cell_type": "code",
      "source": [
        "df_1.rename(columns={\"PCT_CHANGE\":\"UMBC_PCT\",\n",
        "\"PCT_CHANGE\":\"UMBC_PCT\"} ,inplace=True)\n"
      ],
      "metadata": {
        "id": "9tGcQov-jb80"
      },
      "execution_count": null,
      "outputs": []
    },
    {
      "cell_type": "code",
      "source": [
        "umbc2 = df_1[['year','UMBC_PCT']].copy()"
      ],
      "metadata": {
        "id": "Dl-xNKQSpFCd"
      },
      "execution_count": 142,
      "outputs": []
    },
    {
      "cell_type": "markdown",
      "source": [
        "## Step 25 \n",
        "\n",
        "Then make a jhu2 dataframe with only two columns needed. WE don't need other columns. Also change the column name from \"PCT_CHANGE\" to \"JHU_PCT\"  in preparation for the merge"
      ],
      "metadata": {
        "id": "W23PSBYmozzi"
      }
    },
    {
      "cell_type": "code",
      "metadata": {
        "id": "DX95nFyG6zNF"
      },
      "source": [
        "#(Write code here)\n",
        "jhu2 = df_2[['year','PCT_CHANGE']].copy()"
      ],
      "execution_count": 143,
      "outputs": []
    },
    {
      "cell_type": "code",
      "source": [
        "jhu2.rename(columns={\"PCT_CHANGE\":\"JHU_PCT\",\n",
        "\"PCT_CHANGE\":\"JHU_PCT\"} ,inplace=True)"
      ],
      "metadata": {
        "id": "odMmTRnwp89i"
      },
      "execution_count": 144,
      "outputs": []
    },
    {
      "cell_type": "markdown",
      "source": [
        "## Step 26 - Merger the two data frames and display the new dataframe"
      ],
      "metadata": {
        "id": "Q19tgEntpBsD"
      }
    },
    {
      "cell_type": "code",
      "metadata": {
        "id": "LJ_6wKKU6zNL",
        "outputId": "b1bc7293-870f-4296-dfcd-8da75ae627c9",
        "colab": {
          "base_uri": "https://localhost:8080/"
        }
      },
      "source": [
        "#(Write code here)\n",
        "frames = [umbc2, jhu2]\n",
        "new_df = pd.concat(frames)\n",
        "print(new_df)"
      ],
      "execution_count": 148,
      "outputs": [
        {
          "output_type": "stream",
          "name": "stdout",
          "text": [
            "        year  UMBC_PCT  JHU_PCT\n",
            "2151    1996       NaN      NaN\n",
            "9056    1997       NaN      NaN\n",
            "15923   1998       NaN      NaN\n",
            "22598   1999       NaN      NaN\n",
            "29178   2000       NaN      NaN\n",
            "35821   2001      7.65      NaN\n",
            "42524   2002      7.65      NaN\n",
            "49156   2003     16.13      NaN\n",
            "55786   2004      8.55      NaN\n",
            "62522   2005      6.23      NaN\n",
            "69401   2006      1.20      NaN\n",
            "76332   2007      1.00      NaN\n",
            "83291   2008      0.83      NaN\n",
            "90324   2009      1.05      NaN\n",
            "97506   2010      3.37      NaN\n",
            "104960  2011      3.23      NaN\n",
            "112672  2012      3.14      NaN\n",
            "120503  2013      3.11      NaN\n",
            "128353  2014      3.14      NaN\n",
            "136064  2015      5.99      NaN\n",
            "143685  2016      2.34      NaN\n",
            "150891  2017      2.25      NaN\n",
            "157940  2018      2.26      NaN\n",
            "164723  2019      2.12      NaN\n",
            "171401  2020    -21.68      NaN\n",
            "2139    1996       NaN      NaN\n",
            "9046    1997       NaN      NaN\n",
            "15914   1998       NaN      NaN\n",
            "22589   1999       NaN      NaN\n",
            "29169   2000       NaN      NaN\n",
            "35812   2001       NaN    83.11\n",
            "42515   2002       NaN    81.95\n",
            "49148   2003       NaN    81.66\n",
            "55779   2004       NaN    79.19\n",
            "62515   2005       NaN    78.30\n",
            "69394   2006       NaN    80.27\n",
            "76325   2007       NaN    80.47\n",
            "83284   2008       NaN    80.76\n",
            "90317   2009       NaN    80.56\n",
            "97499   2010       NaN    81.25\n",
            "104953  2011       NaN    81.39\n",
            "112665  2012       NaN    80.23\n",
            "120496  2013       NaN    82.29\n",
            "128346  2014       NaN    81.35\n",
            "136057  2015       NaN    81.44\n",
            "143678  2016       NaN    80.90\n",
            "150886  2017       NaN    81.15\n",
            "157935  2018       NaN    80.93\n",
            "164718  2019       NaN    81.08\n",
            "171396  2020       NaN    76.12\n"
          ]
        }
      ]
    },
    {
      "cell_type": "markdown",
      "source": [
        "## Step 27 - Plot UMBC and JHU separately on the same line plot "
      ],
      "metadata": {
        "id": "dWdOJl19pXud"
      }
    },
    {
      "cell_type": "markdown",
      "source": [],
      "metadata": {
        "id": "hyClyzNepVrH"
      }
    },
    {
      "cell_type": "code",
      "metadata": {
        "id": "Ng3bbP076zNW",
        "outputId": "e0f5e04c-dd6d-4758-c8de-e1f7e5c54352",
        "colab": {
          "base_uri": "https://localhost:8080/",
          "height": 279
        }
      },
      "source": [
        "#(Write code here)\n",
        "\n",
        "new_df.set_index('year').plot();"
      ],
      "execution_count": 149,
      "outputs": [
        {
          "output_type": "display_data",
          "data": {
            "text/plain": [
              "<Figure size 432x288 with 1 Axes>"
            ],
            "image/png": "[encoded data removed]"
          },
          "metadata": {
            "needs_background": "light"
          }
        }
      ]
    },
    {
      "cell_type": "code",
      "metadata": {
        "id": "6YNmMkgW6zNv"
      },
      "source": [],
      "execution_count": 127,
      "outputs": []
    },
    {
      "cell_type": "markdown",
      "source": [
        "## Step 28 - Document your observation of the comparison plots using the following Markdown cell"
      ],
      "metadata": {
        "id": "Pw6GMGUwpjz6"
      }
    },
    {
      "cell_type": "markdown",
      "metadata": {
        "id": "tzeP_v8E6zNz"
      },
      "source": [
        "#### Based on my observation of the plots\n",
        "#### blah, blah \n",
        "#### blah, blah\n",
        "#### ...\n",
        "#### blah, blah"
      ]
    },
    {
      "cell_type": "markdown",
      "source": [
        "#Observations\n",
        "\n",
        "- based on my observation JHU IN Tution fee is highr than UMBC\n",
        "- with the passage in time both there in tution was increased, but after year 2015 there was huge decline in the in state tution fee for both insitutes \n",
        "- If we look at the fee structure JHU is more expensive than UMBC"
      ],
      "metadata": {
        "id": "kHSU7Cy3sPIK"
      }
    },
    {
      "cell_type": "code",
      "metadata": {
        "id": "njPmmLLA6zN0"
      },
      "source": [
        "# The end."
      ],
      "execution_count": 128,
      "outputs": []
    }
  ]
}