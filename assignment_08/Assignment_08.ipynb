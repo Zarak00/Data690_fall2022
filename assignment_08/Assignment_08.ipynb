{
  "nbformat": 4,
  "nbformat_minor": 0,
  "metadata": {
    "colab": {
      "provenance": [],
      "authorship_tag": "ABX9TyO6wi5PwXDISNJSwqARiHMs",
      "include_colab_link": true
    },
    "kernelspec": {
      "name": "python3",
      "display_name": "Python 3"
    },
    "language_info": {
      "name": "python"
    }
  },
  "cells": [
    {
      "cell_type": "markdown",
      "metadata": {
        "id": "view-in-github",
        "colab_type": "text"
      },
      "source": [
        "<a href=\"https://colab.research.google.com/github/Zarak00/Data690_fall2022/blob/main/assignment_08/Assignment_08.ipynb\" target=\"_parent\"><img src=\"https://colab.research.google.com/assets/colab-badge.svg\" alt=\"Open In Colab\"/></a>"
      ]
    },
    {
      "cell_type": "markdown",
      "source": [
        "# Zarak Mahmood\n",
        "- Assignment 8\n",
        "- 10/22/2022"
      ],
      "metadata": {
        "id": "io7W62qlC6WD"
      }
    },
    {
      "cell_type": "code",
      "execution_count": null,
      "metadata": {
        "id": "CILR7i3BC5qc"
      },
      "outputs": [],
      "source": []
    }
  ]
}